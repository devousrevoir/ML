{
 "cells": [
  {
   "cell_type": "markdown",
   "id": "d09b1990",
   "metadata": {},
   "source": [
    "# 필수 라이브러리 로딩"
   ]
  },
  {
   "cell_type": "code",
   "execution_count": 1,
   "id": "b78fbb09",
   "metadata": {
    "ExecuteTime": {
     "end_time": "2022-11-10T06:56:30.930375Z",
     "start_time": "2022-11-10T06:56:30.922394Z"
    }
   },
   "outputs": [],
   "source": [
    "import numpy as np\n",
    "import pandas as pd\n",
    "\n",
    "from sklearn.impute import SimpleImputer\n",
    "from sklearn.preprocessing import LabelEncoder, OneHotEncoder, Binarizer, KBinsDiscretizer\n",
    "\n",
    "\n",
    "import statsmodels.api as sm;\n",
    "from statsmodels.stats.outliers_influence import variance_inflation_factor\n",
    "from patsy import dmatrix\n",
    "\n",
    "import numpy as np\n",
    "import pandas as pd\n",
    "import matplotlib.pyplot as plt\n",
    "import matplotlib as mpl\n",
    "\n",
    "from sklearn.metrics import f1_score\n",
    "\n",
    "from warnings import filterwarnings\n",
    "import warnings\n",
    "%matplotlib inline\n",
    "%config Inlinebackend.figure_format = 'retina'\n",
    "\n",
    "# 한글 폰트 설정\n",
    "mpl.rc('font', family='malgun gothic')\n",
    "\n",
    "# 시각화 차트에 음수설정\n",
    "mpl.rc('axes', unicode_minus = False)\n",
    "\n",
    "# 오류경고\n",
    "warnings.filterwarnings('ignore')\n",
    "\n",
    "\n",
    "import seaborn as sns\n",
    "\n",
    "# 차트 스타일지정     글꼴                    음수처리                        눈금\n",
    "sns.set(font = 'malgun ghthic', rc={'axes.unicode_minus':False}, style = 'darkgrid')\n",
    "plt.rc('figure', figsize=(10, 8))"
   ]
  },
  {
   "cell_type": "markdown",
   "id": "7570f9de",
   "metadata": {},
   "source": [
    "# 데이터 로딩"
   ]
  },
  {
   "cell_type": "code",
   "execution_count": 2,
   "id": "a0eab2e5",
   "metadata": {
    "ExecuteTime": {
     "end_time": "2022-11-10T06:56:35.531347Z",
     "start_time": "2022-11-10T06:56:35.441445Z"
    },
    "scrolled": true
   },
   "outputs": [],
   "source": [
    "# data\n",
    "data = pd.read_csv('C:/k_digital/source/Machine Learning with Python/ML project/oil/train.csv') # index_col = 0\n",
    "\n",
    "# target\n",
    "target = data.iloc[:, -1].to_numpy()\n",
    "\n",
    "# test\n",
    "test = pd.read_csv('C:/k_digital/source/Machine Learning with Python/ML project/oil/test.csv')   # index_col = 0"
   ]
  },
  {
   "cell_type": "code",
   "execution_count": 3,
   "id": "6f656cb3",
   "metadata": {},
   "outputs": [
    {
     "data": {
      "text/html": [
       "<div>\n",
       "<style scoped>\n",
       "    .dataframe tbody tr th:only-of-type {\n",
       "        vertical-align: middle;\n",
       "    }\n",
       "\n",
       "    .dataframe tbody tr th {\n",
       "        vertical-align: top;\n",
       "    }\n",
       "\n",
       "    .dataframe thead th {\n",
       "        text-align: right;\n",
       "    }\n",
       "</style>\n",
       "<table border=\"1\" class=\"dataframe\">\n",
       "  <thead>\n",
       "    <tr style=\"text-align: right;\">\n",
       "      <th></th>\n",
       "      <th>ID</th>\n",
       "      <th>COMPONENT_ARBITRARY</th>\n",
       "      <th>ANONYMOUS_1</th>\n",
       "      <th>YEAR</th>\n",
       "      <th>ANONYMOUS_2</th>\n",
       "      <th>AG</th>\n",
       "      <th>CO</th>\n",
       "      <th>CR</th>\n",
       "      <th>CU</th>\n",
       "      <th>FE</th>\n",
       "      <th>H2O</th>\n",
       "      <th>MN</th>\n",
       "      <th>MO</th>\n",
       "      <th>NI</th>\n",
       "      <th>PQINDEX</th>\n",
       "      <th>TI</th>\n",
       "      <th>V</th>\n",
       "      <th>V40</th>\n",
       "      <th>ZN</th>\n",
       "    </tr>\n",
       "  </thead>\n",
       "  <tbody>\n",
       "    <tr>\n",
       "      <th>0</th>\n",
       "      <td>TEST_0000</td>\n",
       "      <td>COMPONENT1</td>\n",
       "      <td>2192</td>\n",
       "      <td>2016</td>\n",
       "      <td>200</td>\n",
       "      <td>0</td>\n",
       "      <td>0</td>\n",
       "      <td>0</td>\n",
       "      <td>1</td>\n",
       "      <td>12</td>\n",
       "      <td>0.0</td>\n",
       "      <td>0</td>\n",
       "      <td>0</td>\n",
       "      <td>0</td>\n",
       "      <td>10</td>\n",
       "      <td>0</td>\n",
       "      <td>0</td>\n",
       "      <td>91.3</td>\n",
       "      <td>1091</td>\n",
       "    </tr>\n",
       "    <tr>\n",
       "      <th>1</th>\n",
       "      <td>TEST_0001</td>\n",
       "      <td>COMPONENT3</td>\n",
       "      <td>2794</td>\n",
       "      <td>2011</td>\n",
       "      <td>200</td>\n",
       "      <td>0</td>\n",
       "      <td>0</td>\n",
       "      <td>2</td>\n",
       "      <td>1</td>\n",
       "      <td>278</td>\n",
       "      <td>0.0</td>\n",
       "      <td>3</td>\n",
       "      <td>0</td>\n",
       "      <td>0</td>\n",
       "      <td>2732</td>\n",
       "      <td>1</td>\n",
       "      <td>0</td>\n",
       "      <td>126.9</td>\n",
       "      <td>12</td>\n",
       "    </tr>\n",
       "    <tr>\n",
       "      <th>2</th>\n",
       "      <td>TEST_0002</td>\n",
       "      <td>COMPONENT2</td>\n",
       "      <td>1982</td>\n",
       "      <td>2010</td>\n",
       "      <td>200</td>\n",
       "      <td>0</td>\n",
       "      <td>0</td>\n",
       "      <td>0</td>\n",
       "      <td>16</td>\n",
       "      <td>5</td>\n",
       "      <td>0.0</td>\n",
       "      <td>0</td>\n",
       "      <td>0</td>\n",
       "      <td>0</td>\n",
       "      <td>11</td>\n",
       "      <td>0</td>\n",
       "      <td>0</td>\n",
       "      <td>44.3</td>\n",
       "      <td>714</td>\n",
       "    </tr>\n",
       "    <tr>\n",
       "      <th>3</th>\n",
       "      <td>TEST_0003</td>\n",
       "      <td>COMPONENT3</td>\n",
       "      <td>1404</td>\n",
       "      <td>2009</td>\n",
       "      <td>200</td>\n",
       "      <td>0</td>\n",
       "      <td>0</td>\n",
       "      <td>3</td>\n",
       "      <td>4</td>\n",
       "      <td>163</td>\n",
       "      <td>0.0</td>\n",
       "      <td>4</td>\n",
       "      <td>3</td>\n",
       "      <td>0</td>\n",
       "      <td>8007</td>\n",
       "      <td>0</td>\n",
       "      <td>0</td>\n",
       "      <td>142.8</td>\n",
       "      <td>94</td>\n",
       "    </tr>\n",
       "    <tr>\n",
       "      <th>4</th>\n",
       "      <td>TEST_0004</td>\n",
       "      <td>COMPONENT2</td>\n",
       "      <td>8225</td>\n",
       "      <td>2013</td>\n",
       "      <td>200</td>\n",
       "      <td>0</td>\n",
       "      <td>0</td>\n",
       "      <td>0</td>\n",
       "      <td>6</td>\n",
       "      <td>13</td>\n",
       "      <td>0.0</td>\n",
       "      <td>0</td>\n",
       "      <td>0</td>\n",
       "      <td>0</td>\n",
       "      <td>16</td>\n",
       "      <td>0</td>\n",
       "      <td>0</td>\n",
       "      <td>63.4</td>\n",
       "      <td>469</td>\n",
       "    </tr>\n",
       "    <tr>\n",
       "      <th>...</th>\n",
       "      <td>...</td>\n",
       "      <td>...</td>\n",
       "      <td>...</td>\n",
       "      <td>...</td>\n",
       "      <td>...</td>\n",
       "      <td>...</td>\n",
       "      <td>...</td>\n",
       "      <td>...</td>\n",
       "      <td>...</td>\n",
       "      <td>...</td>\n",
       "      <td>...</td>\n",
       "      <td>...</td>\n",
       "      <td>...</td>\n",
       "      <td>...</td>\n",
       "      <td>...</td>\n",
       "      <td>...</td>\n",
       "      <td>...</td>\n",
       "      <td>...</td>\n",
       "      <td>...</td>\n",
       "    </tr>\n",
       "    <tr>\n",
       "      <th>6036</th>\n",
       "      <td>TEST_6036</td>\n",
       "      <td>COMPONENT3</td>\n",
       "      <td>1714</td>\n",
       "      <td>2014</td>\n",
       "      <td>200</td>\n",
       "      <td>0</td>\n",
       "      <td>0</td>\n",
       "      <td>3</td>\n",
       "      <td>130</td>\n",
       "      <td>1047</td>\n",
       "      <td>0.0</td>\n",
       "      <td>65</td>\n",
       "      <td>5</td>\n",
       "      <td>2</td>\n",
       "      <td>1999</td>\n",
       "      <td>0</td>\n",
       "      <td>0</td>\n",
       "      <td>71.2</td>\n",
       "      <td>1163</td>\n",
       "    </tr>\n",
       "    <tr>\n",
       "      <th>6037</th>\n",
       "      <td>TEST_6037</td>\n",
       "      <td>COMPONENT3</td>\n",
       "      <td>4131</td>\n",
       "      <td>2016</td>\n",
       "      <td>200</td>\n",
       "      <td>0</td>\n",
       "      <td>0</td>\n",
       "      <td>5</td>\n",
       "      <td>2</td>\n",
       "      <td>736</td>\n",
       "      <td>0.0</td>\n",
       "      <td>5</td>\n",
       "      <td>0</td>\n",
       "      <td>0</td>\n",
       "      <td>693</td>\n",
       "      <td>0</td>\n",
       "      <td>0</td>\n",
       "      <td>137.8</td>\n",
       "      <td>13</td>\n",
       "    </tr>\n",
       "    <tr>\n",
       "      <th>6038</th>\n",
       "      <td>TEST_6038</td>\n",
       "      <td>COMPONENT3</td>\n",
       "      <td>4325</td>\n",
       "      <td>2014</td>\n",
       "      <td>200</td>\n",
       "      <td>0</td>\n",
       "      <td>0</td>\n",
       "      <td>0</td>\n",
       "      <td>0</td>\n",
       "      <td>53</td>\n",
       "      <td>0.0</td>\n",
       "      <td>0</td>\n",
       "      <td>0</td>\n",
       "      <td>0</td>\n",
       "      <td>69</td>\n",
       "      <td>0</td>\n",
       "      <td>0</td>\n",
       "      <td>302.2</td>\n",
       "      <td>13</td>\n",
       "    </tr>\n",
       "    <tr>\n",
       "      <th>6039</th>\n",
       "      <td>TEST_6039</td>\n",
       "      <td>COMPONENT2</td>\n",
       "      <td>1364</td>\n",
       "      <td>2013</td>\n",
       "      <td>200</td>\n",
       "      <td>0</td>\n",
       "      <td>0</td>\n",
       "      <td>0</td>\n",
       "      <td>62</td>\n",
       "      <td>2</td>\n",
       "      <td>0.0</td>\n",
       "      <td>0</td>\n",
       "      <td>0</td>\n",
       "      <td>0</td>\n",
       "      <td>5</td>\n",
       "      <td>0</td>\n",
       "      <td>0</td>\n",
       "      <td>51.1</td>\n",
       "      <td>478</td>\n",
       "    </tr>\n",
       "    <tr>\n",
       "      <th>6040</th>\n",
       "      <td>TEST_6040</td>\n",
       "      <td>COMPONENT1</td>\n",
       "      <td>2397</td>\n",
       "      <td>2016</td>\n",
       "      <td>1597</td>\n",
       "      <td>1</td>\n",
       "      <td>0</td>\n",
       "      <td>0</td>\n",
       "      <td>0</td>\n",
       "      <td>4</td>\n",
       "      <td>0.0</td>\n",
       "      <td>0</td>\n",
       "      <td>2</td>\n",
       "      <td>0</td>\n",
       "      <td>14</td>\n",
       "      <td>0</td>\n",
       "      <td>0</td>\n",
       "      <td>80.0</td>\n",
       "      <td>970</td>\n",
       "    </tr>\n",
       "  </tbody>\n",
       "</table>\n",
       "<p>6041 rows × 19 columns</p>\n",
       "</div>"
      ],
      "text/plain": [
       "             ID COMPONENT_ARBITRARY  ANONYMOUS_1  YEAR  ANONYMOUS_2  AG  CO  \\\n",
       "0     TEST_0000          COMPONENT1         2192  2016          200   0   0   \n",
       "1     TEST_0001          COMPONENT3         2794  2011          200   0   0   \n",
       "2     TEST_0002          COMPONENT2         1982  2010          200   0   0   \n",
       "3     TEST_0003          COMPONENT3         1404  2009          200   0   0   \n",
       "4     TEST_0004          COMPONENT2         8225  2013          200   0   0   \n",
       "...         ...                 ...          ...   ...          ...  ..  ..   \n",
       "6036  TEST_6036          COMPONENT3         1714  2014          200   0   0   \n",
       "6037  TEST_6037          COMPONENT3         4131  2016          200   0   0   \n",
       "6038  TEST_6038          COMPONENT3         4325  2014          200   0   0   \n",
       "6039  TEST_6039          COMPONENT2         1364  2013          200   0   0   \n",
       "6040  TEST_6040          COMPONENT1         2397  2016         1597   1   0   \n",
       "\n",
       "      CR   CU    FE  H2O  MN  MO  NI  PQINDEX  TI  V    V40    ZN  \n",
       "0      0    1    12  0.0   0   0   0       10   0  0   91.3  1091  \n",
       "1      2    1   278  0.0   3   0   0     2732   1  0  126.9    12  \n",
       "2      0   16     5  0.0   0   0   0       11   0  0   44.3   714  \n",
       "3      3    4   163  0.0   4   3   0     8007   0  0  142.8    94  \n",
       "4      0    6    13  0.0   0   0   0       16   0  0   63.4   469  \n",
       "...   ..  ...   ...  ...  ..  ..  ..      ...  .. ..    ...   ...  \n",
       "6036   3  130  1047  0.0  65   5   2     1999   0  0   71.2  1163  \n",
       "6037   5    2   736  0.0   5   0   0      693   0  0  137.8    13  \n",
       "6038   0    0    53  0.0   0   0   0       69   0  0  302.2    13  \n",
       "6039   0   62     2  0.0   0   0   0        5   0  0   51.1   478  \n",
       "6040   0    0     4  0.0   0   2   0       14   0  0   80.0   970  \n",
       "\n",
       "[6041 rows x 19 columns]"
      ]
     },
     "execution_count": 3,
     "metadata": {},
     "output_type": "execute_result"
    }
   ],
   "source": [
    "test"
   ]
  },
  {
   "cell_type": "markdown",
   "id": "8f15748b",
   "metadata": {},
   "source": [
    "# 데이터 탐색"
   ]
  },
  {
   "cell_type": "code",
   "execution_count": 4,
   "id": "51559e56",
   "metadata": {},
   "outputs": [
    {
     "data": {
      "text/plain": [
       "2008    1419\n",
       "2014    1400\n",
       "2013    1189\n",
       "2015    1156\n",
       "2011    1146\n",
       "2012    1073\n",
       "2009     949\n",
       "2016     942\n",
       "2017     896\n",
       "2018     878\n",
       "2010     866\n",
       "2019     649\n",
       "2021     477\n",
       "2020     373\n",
       "2022     354\n",
       "2007     328\n",
       "Name: YEAR, dtype: int64"
      ]
     },
     "execution_count": 4,
     "metadata": {},
     "output_type": "execute_result"
    }
   ],
   "source": [
    "# data\n",
    "data[\"YEAR\"].value_counts(0)"
   ]
  },
  {
   "cell_type": "code",
   "execution_count": 5,
   "id": "80afdf5e",
   "metadata": {
    "ExecuteTime": {
     "end_time": "2022-11-10T08:37:18.281221Z",
     "start_time": "2022-11-10T08:37:18.259266Z"
    }
   },
   "outputs": [
    {
     "data": {
      "text/plain": [
       "ID                         0\n",
       "COMPONENT_ARBITRARY        0\n",
       "ANONYMOUS_1                0\n",
       "YEAR                       0\n",
       "SAMPLE_TRANSFER_DAY        0\n",
       "ANONYMOUS_2                0\n",
       "AG                         0\n",
       "AL                         0\n",
       "B                          0\n",
       "BA                         0\n",
       "BE                         0\n",
       "CA                         0\n",
       "CD                      1394\n",
       "CO                         0\n",
       "CR                         0\n",
       "CU                         0\n",
       "FH2O                   10205\n",
       "FNOX                   10205\n",
       "FOPTIMETHGLY           10205\n",
       "FOXID                  10205\n",
       "FSO4                   10205\n",
       "FTBN                   10205\n",
       "FE                         0\n",
       "FUEL                   10205\n",
       "H2O                        0\n",
       "K                       2299\n",
       "LI                         0\n",
       "MG                         0\n",
       "MN                         0\n",
       "MO                         0\n",
       "NA                         0\n",
       "NI                         0\n",
       "P                          0\n",
       "PB                         0\n",
       "PQINDEX                    0\n",
       "S                          0\n",
       "SB                         0\n",
       "SI                         0\n",
       "SN                         0\n",
       "SOOTPERCENTAGE         10205\n",
       "TI                         0\n",
       "U100                   11779\n",
       "U75                    11779\n",
       "U50                    11779\n",
       "U25                    11779\n",
       "U20                    11779\n",
       "U14                    11977\n",
       "U6                     11977\n",
       "U4                     11977\n",
       "V                          0\n",
       "V100                   10371\n",
       "V40                        0\n",
       "ZN                         0\n",
       "Y_LABEL                    0\n",
       "dtype: int64"
      ]
     },
     "execution_count": 5,
     "metadata": {},
     "output_type": "execute_result"
    }
   ],
   "source": [
    "# 결측값 확인\n",
    "data.isna().sum()"
   ]
  },
  {
   "cell_type": "code",
   "execution_count": 6,
   "id": "71daab4b",
   "metadata": {},
   "outputs": [],
   "source": [
    "# 상관 계수\n",
    "# data.corrwith(data[:,-1])"
   ]
  },
  {
   "cell_type": "code",
   "execution_count": 7,
   "id": "bec52a03",
   "metadata": {},
   "outputs": [
    {
     "data": {
      "text/plain": [
       "0    12892\n",
       "1     1203\n",
       "dtype: int64"
      ]
     },
     "execution_count": 7,
     "metadata": {},
     "output_type": "execute_result"
    }
   ],
   "source": [
    "pd.DataFrame(target).value_counts()"
   ]
  },
  {
   "cell_type": "markdown",
   "id": "a44fe6cf",
   "metadata": {},
   "source": [
    "# 데이터 전처리 数据预处理"
   ]
  },
  {
   "cell_type": "markdown",
   "id": "4fc1ce0a",
   "metadata": {},
   "source": [
    "## OnehotEncoding"
   ]
  },
  {
   "cell_type": "code",
   "execution_count": 8,
   "id": "a40c4a65",
   "metadata": {},
   "outputs": [],
   "source": [
    "data2 = data.iloc[:, 1].copy()"
   ]
  },
  {
   "cell_type": "code",
   "execution_count": 9,
   "id": "0ee534d6",
   "metadata": {},
   "outputs": [
    {
     "data": {
      "text/plain": [
       "COMPONENT3    7050\n",
       "COMPONENT1    3890\n",
       "COMPONENT2    2316\n",
       "COMPONENT4     839\n",
       "Name: COMPONENT_ARBITRARY, dtype: int64"
      ]
     },
     "execution_count": 9,
     "metadata": {},
     "output_type": "execute_result"
    }
   ],
   "source": [
    "data2.value_counts()"
   ]
  },
  {
   "cell_type": "code",
   "execution_count": 10,
   "id": "5c42afa1",
   "metadata": {},
   "outputs": [
    {
     "data": {
      "text/plain": [
       "array([[0., 0., 1., 0.],\n",
       "       [0., 1., 0., 0.],\n",
       "       [0., 1., 0., 0.],\n",
       "       ...,\n",
       "       [0., 0., 1., 0.],\n",
       "       [0., 1., 0., 0.],\n",
       "       [0., 1., 0., 0.]])"
      ]
     },
     "execution_count": 10,
     "metadata": {},
     "output_type": "execute_result"
    }
   ],
   "source": [
    "# OneHotEncoder\n",
    "\n",
    "x = data2.to_numpy()\n",
    "x= x.reshape(-1, 1)\n",
    "\n",
    "ohe = OneHotEncoder()\n",
    "result = ohe.fit_transform(x).toarray()\n",
    "\n",
    "name = ohe.get_feature_names()\n",
    "result"
   ]
  },
  {
   "cell_type": "code",
   "execution_count": 11,
   "id": "d0029178",
   "metadata": {},
   "outputs": [
    {
     "data": {
      "text/plain": [
       "array(['x0_COMPONENT1', 'x0_COMPONENT2', 'x0_COMPONENT3', 'x0_COMPONENT4'],\n",
       "      dtype=object)"
      ]
     },
     "execution_count": 11,
     "metadata": {},
     "output_type": "execute_result"
    }
   ],
   "source": [
    "name"
   ]
  },
  {
   "cell_type": "code",
   "execution_count": 12,
   "id": "dd368efc",
   "metadata": {},
   "outputs": [
    {
     "data": {
      "text/html": [
       "<div>\n",
       "<style scoped>\n",
       "    .dataframe tbody tr th:only-of-type {\n",
       "        vertical-align: middle;\n",
       "    }\n",
       "\n",
       "    .dataframe tbody tr th {\n",
       "        vertical-align: top;\n",
       "    }\n",
       "\n",
       "    .dataframe thead th {\n",
       "        text-align: right;\n",
       "    }\n",
       "</style>\n",
       "<table border=\"1\" class=\"dataframe\">\n",
       "  <thead>\n",
       "    <tr style=\"text-align: right;\">\n",
       "      <th></th>\n",
       "      <th>x0_COMPONENT1</th>\n",
       "      <th>x0_COMPONENT2</th>\n",
       "      <th>x0_COMPONENT3</th>\n",
       "      <th>x0_COMPONENT4</th>\n",
       "    </tr>\n",
       "  </thead>\n",
       "  <tbody>\n",
       "    <tr>\n",
       "      <th>0</th>\n",
       "      <td>0.0</td>\n",
       "      <td>0.0</td>\n",
       "      <td>1.0</td>\n",
       "      <td>0.0</td>\n",
       "    </tr>\n",
       "    <tr>\n",
       "      <th>1</th>\n",
       "      <td>0.0</td>\n",
       "      <td>1.0</td>\n",
       "      <td>0.0</td>\n",
       "      <td>0.0</td>\n",
       "    </tr>\n",
       "    <tr>\n",
       "      <th>2</th>\n",
       "      <td>0.0</td>\n",
       "      <td>1.0</td>\n",
       "      <td>0.0</td>\n",
       "      <td>0.0</td>\n",
       "    </tr>\n",
       "    <tr>\n",
       "      <th>3</th>\n",
       "      <td>0.0</td>\n",
       "      <td>0.0</td>\n",
       "      <td>1.0</td>\n",
       "      <td>0.0</td>\n",
       "    </tr>\n",
       "    <tr>\n",
       "      <th>4</th>\n",
       "      <td>0.0</td>\n",
       "      <td>0.0</td>\n",
       "      <td>1.0</td>\n",
       "      <td>0.0</td>\n",
       "    </tr>\n",
       "  </tbody>\n",
       "</table>\n",
       "</div>"
      ],
      "text/plain": [
       "   x0_COMPONENT1  x0_COMPONENT2  x0_COMPONENT3  x0_COMPONENT4\n",
       "0            0.0            0.0            1.0            0.0\n",
       "1            0.0            1.0            0.0            0.0\n",
       "2            0.0            1.0            0.0            0.0\n",
       "3            0.0            0.0            1.0            0.0\n",
       "4            0.0            0.0            1.0            0.0"
      ]
     },
     "execution_count": 12,
     "metadata": {},
     "output_type": "execute_result"
    }
   ],
   "source": [
    "# 합치기 준비\n",
    "ohe_df = pd.DataFrame(result, columns = name)\n",
    "ohe_df.head()"
   ]
  },
  {
   "cell_type": "markdown",
   "id": "afbedfb0",
   "metadata": {},
   "source": [
    "## StandardScaler"
   ]
  },
  {
   "cell_type": "code",
   "execution_count": 13,
   "id": "b900b9f7",
   "metadata": {},
   "outputs": [
    {
     "data": {
      "text/html": [
       "<div>\n",
       "<style scoped>\n",
       "    .dataframe tbody tr th:only-of-type {\n",
       "        vertical-align: middle;\n",
       "    }\n",
       "\n",
       "    .dataframe tbody tr th {\n",
       "        vertical-align: top;\n",
       "    }\n",
       "\n",
       "    .dataframe thead th {\n",
       "        text-align: right;\n",
       "    }\n",
       "</style>\n",
       "<table border=\"1\" class=\"dataframe\">\n",
       "  <thead>\n",
       "    <tr style=\"text-align: right;\">\n",
       "      <th></th>\n",
       "      <th>ANONYMOUS_2</th>\n",
       "      <th>AG</th>\n",
       "      <th>CO</th>\n",
       "      <th>CR</th>\n",
       "      <th>CU</th>\n",
       "      <th>FE</th>\n",
       "      <th>H2O</th>\n",
       "      <th>MN</th>\n",
       "      <th>MO</th>\n",
       "      <th>NI</th>\n",
       "      <th>PQINDEX</th>\n",
       "      <th>TI</th>\n",
       "      <th>V</th>\n",
       "      <th>V40</th>\n",
       "      <th>ZN</th>\n",
       "    </tr>\n",
       "  </thead>\n",
       "  <tbody>\n",
       "    <tr>\n",
       "      <th>0</th>\n",
       "      <td>200</td>\n",
       "      <td>0</td>\n",
       "      <td>0</td>\n",
       "      <td>0</td>\n",
       "      <td>1</td>\n",
       "      <td>12</td>\n",
       "      <td>0.0</td>\n",
       "      <td>0</td>\n",
       "      <td>0</td>\n",
       "      <td>0</td>\n",
       "      <td>10</td>\n",
       "      <td>0</td>\n",
       "      <td>0</td>\n",
       "      <td>91.3</td>\n",
       "      <td>1091</td>\n",
       "    </tr>\n",
       "    <tr>\n",
       "      <th>1</th>\n",
       "      <td>200</td>\n",
       "      <td>0</td>\n",
       "      <td>0</td>\n",
       "      <td>2</td>\n",
       "      <td>1</td>\n",
       "      <td>278</td>\n",
       "      <td>0.0</td>\n",
       "      <td>3</td>\n",
       "      <td>0</td>\n",
       "      <td>0</td>\n",
       "      <td>2732</td>\n",
       "      <td>1</td>\n",
       "      <td>0</td>\n",
       "      <td>126.9</td>\n",
       "      <td>12</td>\n",
       "    </tr>\n",
       "    <tr>\n",
       "      <th>2</th>\n",
       "      <td>200</td>\n",
       "      <td>0</td>\n",
       "      <td>0</td>\n",
       "      <td>0</td>\n",
       "      <td>16</td>\n",
       "      <td>5</td>\n",
       "      <td>0.0</td>\n",
       "      <td>0</td>\n",
       "      <td>0</td>\n",
       "      <td>0</td>\n",
       "      <td>11</td>\n",
       "      <td>0</td>\n",
       "      <td>0</td>\n",
       "      <td>44.3</td>\n",
       "      <td>714</td>\n",
       "    </tr>\n",
       "    <tr>\n",
       "      <th>3</th>\n",
       "      <td>200</td>\n",
       "      <td>0</td>\n",
       "      <td>0</td>\n",
       "      <td>3</td>\n",
       "      <td>4</td>\n",
       "      <td>163</td>\n",
       "      <td>0.0</td>\n",
       "      <td>4</td>\n",
       "      <td>3</td>\n",
       "      <td>0</td>\n",
       "      <td>8007</td>\n",
       "      <td>0</td>\n",
       "      <td>0</td>\n",
       "      <td>142.8</td>\n",
       "      <td>94</td>\n",
       "    </tr>\n",
       "    <tr>\n",
       "      <th>4</th>\n",
       "      <td>200</td>\n",
       "      <td>0</td>\n",
       "      <td>0</td>\n",
       "      <td>0</td>\n",
       "      <td>6</td>\n",
       "      <td>13</td>\n",
       "      <td>0.0</td>\n",
       "      <td>0</td>\n",
       "      <td>0</td>\n",
       "      <td>0</td>\n",
       "      <td>16</td>\n",
       "      <td>0</td>\n",
       "      <td>0</td>\n",
       "      <td>63.4</td>\n",
       "      <td>469</td>\n",
       "    </tr>\n",
       "    <tr>\n",
       "      <th>...</th>\n",
       "      <td>...</td>\n",
       "      <td>...</td>\n",
       "      <td>...</td>\n",
       "      <td>...</td>\n",
       "      <td>...</td>\n",
       "      <td>...</td>\n",
       "      <td>...</td>\n",
       "      <td>...</td>\n",
       "      <td>...</td>\n",
       "      <td>...</td>\n",
       "      <td>...</td>\n",
       "      <td>...</td>\n",
       "      <td>...</td>\n",
       "      <td>...</td>\n",
       "      <td>...</td>\n",
       "    </tr>\n",
       "    <tr>\n",
       "      <th>6036</th>\n",
       "      <td>200</td>\n",
       "      <td>0</td>\n",
       "      <td>0</td>\n",
       "      <td>3</td>\n",
       "      <td>130</td>\n",
       "      <td>1047</td>\n",
       "      <td>0.0</td>\n",
       "      <td>65</td>\n",
       "      <td>5</td>\n",
       "      <td>2</td>\n",
       "      <td>1999</td>\n",
       "      <td>0</td>\n",
       "      <td>0</td>\n",
       "      <td>71.2</td>\n",
       "      <td>1163</td>\n",
       "    </tr>\n",
       "    <tr>\n",
       "      <th>6037</th>\n",
       "      <td>200</td>\n",
       "      <td>0</td>\n",
       "      <td>0</td>\n",
       "      <td>5</td>\n",
       "      <td>2</td>\n",
       "      <td>736</td>\n",
       "      <td>0.0</td>\n",
       "      <td>5</td>\n",
       "      <td>0</td>\n",
       "      <td>0</td>\n",
       "      <td>693</td>\n",
       "      <td>0</td>\n",
       "      <td>0</td>\n",
       "      <td>137.8</td>\n",
       "      <td>13</td>\n",
       "    </tr>\n",
       "    <tr>\n",
       "      <th>6038</th>\n",
       "      <td>200</td>\n",
       "      <td>0</td>\n",
       "      <td>0</td>\n",
       "      <td>0</td>\n",
       "      <td>0</td>\n",
       "      <td>53</td>\n",
       "      <td>0.0</td>\n",
       "      <td>0</td>\n",
       "      <td>0</td>\n",
       "      <td>0</td>\n",
       "      <td>69</td>\n",
       "      <td>0</td>\n",
       "      <td>0</td>\n",
       "      <td>302.2</td>\n",
       "      <td>13</td>\n",
       "    </tr>\n",
       "    <tr>\n",
       "      <th>6039</th>\n",
       "      <td>200</td>\n",
       "      <td>0</td>\n",
       "      <td>0</td>\n",
       "      <td>0</td>\n",
       "      <td>62</td>\n",
       "      <td>2</td>\n",
       "      <td>0.0</td>\n",
       "      <td>0</td>\n",
       "      <td>0</td>\n",
       "      <td>0</td>\n",
       "      <td>5</td>\n",
       "      <td>0</td>\n",
       "      <td>0</td>\n",
       "      <td>51.1</td>\n",
       "      <td>478</td>\n",
       "    </tr>\n",
       "    <tr>\n",
       "      <th>6040</th>\n",
       "      <td>1597</td>\n",
       "      <td>1</td>\n",
       "      <td>0</td>\n",
       "      <td>0</td>\n",
       "      <td>0</td>\n",
       "      <td>4</td>\n",
       "      <td>0.0</td>\n",
       "      <td>0</td>\n",
       "      <td>2</td>\n",
       "      <td>0</td>\n",
       "      <td>14</td>\n",
       "      <td>0</td>\n",
       "      <td>0</td>\n",
       "      <td>80.0</td>\n",
       "      <td>970</td>\n",
       "    </tr>\n",
       "  </tbody>\n",
       "</table>\n",
       "<p>6041 rows × 15 columns</p>\n",
       "</div>"
      ],
      "text/plain": [
       "      ANONYMOUS_2  AG  CO  CR   CU    FE  H2O  MN  MO  NI  PQINDEX  TI  V  \\\n",
       "0             200   0   0   0    1    12  0.0   0   0   0       10   0  0   \n",
       "1             200   0   0   2    1   278  0.0   3   0   0     2732   1  0   \n",
       "2             200   0   0   0   16     5  0.0   0   0   0       11   0  0   \n",
       "3             200   0   0   3    4   163  0.0   4   3   0     8007   0  0   \n",
       "4             200   0   0   0    6    13  0.0   0   0   0       16   0  0   \n",
       "...           ...  ..  ..  ..  ...   ...  ...  ..  ..  ..      ...  .. ..   \n",
       "6036          200   0   0   3  130  1047  0.0  65   5   2     1999   0  0   \n",
       "6037          200   0   0   5    2   736  0.0   5   0   0      693   0  0   \n",
       "6038          200   0   0   0    0    53  0.0   0   0   0       69   0  0   \n",
       "6039          200   0   0   0   62     2  0.0   0   0   0        5   0  0   \n",
       "6040         1597   1   0   0    0     4  0.0   0   2   0       14   0  0   \n",
       "\n",
       "        V40    ZN  \n",
       "0      91.3  1091  \n",
       "1     126.9    12  \n",
       "2      44.3   714  \n",
       "3     142.8    94  \n",
       "4      63.4   469  \n",
       "...     ...   ...  \n",
       "6036   71.2  1163  \n",
       "6037  137.8    13  \n",
       "6038  302.2    13  \n",
       "6039   51.1   478  \n",
       "6040   80.0   970  \n",
       "\n",
       "[6041 rows x 15 columns]"
      ]
     },
     "execution_count": 13,
     "metadata": {},
     "output_type": "execute_result"
    }
   ],
   "source": [
    "name1 = ['ANONYMOUS_2', 'AG', 'CO', 'CR', 'CU', 'FE', 'H2O', \n",
    "                       'MN', 'MO', 'NI', 'PQINDEX', 'TI', 'V', 'V40', 'ZN']\n",
    "\n",
    "\n",
    "test = test[name1]\n",
    "test"
   ]
  },
  {
   "cell_type": "code",
   "execution_count": 14,
   "id": "e2fa8f8c",
   "metadata": {},
   "outputs": [
    {
     "data": {
      "text/plain": [
       "ANONYMOUS_2    0\n",
       "AG             0\n",
       "CO             0\n",
       "CR             0\n",
       "CU             0\n",
       "FE             0\n",
       "H2O            0\n",
       "MN             0\n",
       "MO             0\n",
       "NI             0\n",
       "PQINDEX        0\n",
       "TI             0\n",
       "V              0\n",
       "V40            0\n",
       "ZN             0\n",
       "dtype: int64"
      ]
     },
     "execution_count": 14,
     "metadata": {},
     "output_type": "execute_result"
    }
   ],
   "source": [
    "test_stage_features = ['ANONYMOUS_2', 'AG', 'CO', 'CR', 'CU', 'FE', 'H2O', \n",
    "                       'MN', 'MO', 'NI', 'PQINDEX', 'TI', 'V', 'V40', 'ZN']\n",
    "\n",
    "data = data[test_stage_features]\n",
    "\n",
    "# 'COMPONENT_ARBITRARY', 'ANONYMOUS_1'\n",
    "data.isna().sum()"
   ]
  },
  {
   "cell_type": "code",
   "execution_count": 15,
   "id": "bc1c7e8f",
   "metadata": {},
   "outputs": [],
   "source": [
    "from sklearn.preprocessing import StandardScaler\n",
    "\n",
    "ss = StandardScaler()\n",
    "scaled = ss.fit_transform(data)"
   ]
  },
  {
   "cell_type": "code",
   "execution_count": 16,
   "id": "8be7dffe",
   "metadata": {},
   "outputs": [
    {
     "data": {
      "text/plain": [
       "array([[-0.3407601 , -0.15021362, -0.08963275, ..., -0.1065502 ,\n",
       "         0.89989172, -0.96600175],\n",
       "       [-0.0225763 , -0.15021362, -0.08963275, ..., -0.1065502 ,\n",
       "        -1.31737552,  0.11914661],\n",
       "       [-0.3407601 , -0.15021362, -0.08963275, ..., -0.1065502 ,\n",
       "        -0.74088603, -0.33221493],\n",
       "       ...,\n",
       "       [ 0.29560751, -0.15021362, -0.08963275, ..., -0.1065502 ,\n",
       "        -1.11580577,  1.33970343],\n",
       "       [ 0.29560751, -0.15021362, -0.08963275, ..., -0.1065502 ,\n",
       "        -1.31132842,  0.11914661],\n",
       "       [-0.3407601 , -0.15021362, -0.08963275, ..., -0.1065502 ,\n",
       "        -1.25690459,  0.04391969]])"
      ]
     },
     "execution_count": 16,
     "metadata": {},
     "output_type": "execute_result"
    }
   ],
   "source": [
    "scaled"
   ]
  },
  {
   "cell_type": "code",
   "execution_count": 17,
   "id": "56fe0bd0",
   "metadata": {},
   "outputs": [],
   "source": [
    "data_df = pd.DataFrame(scaled, columns = test_stage_features)"
   ]
  },
  {
   "cell_type": "code",
   "execution_count": 18,
   "id": "daf4e0f4",
   "metadata": {},
   "outputs": [
    {
     "data": {
      "text/html": [
       "<div>\n",
       "<style scoped>\n",
       "    .dataframe tbody tr th:only-of-type {\n",
       "        vertical-align: middle;\n",
       "    }\n",
       "\n",
       "    .dataframe tbody tr th {\n",
       "        vertical-align: top;\n",
       "    }\n",
       "\n",
       "    .dataframe thead th {\n",
       "        text-align: right;\n",
       "    }\n",
       "</style>\n",
       "<table border=\"1\" class=\"dataframe\">\n",
       "  <thead>\n",
       "    <tr style=\"text-align: right;\">\n",
       "      <th></th>\n",
       "      <th>ANONYMOUS_2</th>\n",
       "      <th>AG</th>\n",
       "      <th>CO</th>\n",
       "      <th>CR</th>\n",
       "      <th>CU</th>\n",
       "      <th>FE</th>\n",
       "      <th>H2O</th>\n",
       "      <th>MN</th>\n",
       "      <th>MO</th>\n",
       "      <th>NI</th>\n",
       "      <th>PQINDEX</th>\n",
       "      <th>TI</th>\n",
       "      <th>V</th>\n",
       "      <th>V40</th>\n",
       "      <th>ZN</th>\n",
       "    </tr>\n",
       "  </thead>\n",
       "  <tbody>\n",
       "    <tr>\n",
       "      <th>0</th>\n",
       "      <td>-0.340760</td>\n",
       "      <td>-0.150214</td>\n",
       "      <td>-0.089633</td>\n",
       "      <td>0.339245</td>\n",
       "      <td>0.336858</td>\n",
       "      <td>1.331290</td>\n",
       "      <td>-0.041588</td>\n",
       "      <td>1.186914</td>\n",
       "      <td>-0.384284</td>\n",
       "      <td>1.384414</td>\n",
       "      <td>5.293270</td>\n",
       "      <td>0.622282</td>\n",
       "      <td>-0.10655</td>\n",
       "      <td>0.899892</td>\n",
       "      <td>-0.966002</td>\n",
       "    </tr>\n",
       "    <tr>\n",
       "      <th>1</th>\n",
       "      <td>-0.022576</td>\n",
       "      <td>-0.150214</td>\n",
       "      <td>-0.089633</td>\n",
       "      <td>-0.115388</td>\n",
       "      <td>-0.027612</td>\n",
       "      <td>-0.330406</td>\n",
       "      <td>-0.041588</td>\n",
       "      <td>-0.250456</td>\n",
       "      <td>-0.400998</td>\n",
       "      <td>-0.191804</td>\n",
       "      <td>-0.259244</td>\n",
       "      <td>-0.102635</td>\n",
       "      <td>-0.10655</td>\n",
       "      <td>-1.317376</td>\n",
       "      <td>0.119147</td>\n",
       "    </tr>\n",
       "    <tr>\n",
       "      <th>2</th>\n",
       "      <td>-0.340760</td>\n",
       "      <td>-0.150214</td>\n",
       "      <td>-0.089633</td>\n",
       "      <td>-0.080416</td>\n",
       "      <td>-0.252497</td>\n",
       "      <td>-0.326655</td>\n",
       "      <td>-0.041588</td>\n",
       "      <td>-0.250456</td>\n",
       "      <td>-0.400998</td>\n",
       "      <td>-0.191804</td>\n",
       "      <td>-0.260552</td>\n",
       "      <td>-0.102635</td>\n",
       "      <td>-0.10655</td>\n",
       "      <td>-0.740886</td>\n",
       "      <td>-0.332215</td>\n",
       "    </tr>\n",
       "    <tr>\n",
       "      <th>3</th>\n",
       "      <td>-0.340760</td>\n",
       "      <td>-0.150214</td>\n",
       "      <td>-0.089633</td>\n",
       "      <td>-0.115388</td>\n",
       "      <td>-0.260252</td>\n",
       "      <td>-0.264764</td>\n",
       "      <td>-0.041588</td>\n",
       "      <td>-0.160621</td>\n",
       "      <td>-0.400998</td>\n",
       "      <td>-0.191804</td>\n",
       "      <td>-0.242884</td>\n",
       "      <td>-0.102635</td>\n",
       "      <td>-0.10655</td>\n",
       "      <td>0.482642</td>\n",
       "      <td>-1.093888</td>\n",
       "    </tr>\n",
       "    <tr>\n",
       "      <th>4</th>\n",
       "      <td>-0.340760</td>\n",
       "      <td>-0.150214</td>\n",
       "      <td>-0.089633</td>\n",
       "      <td>-0.115388</td>\n",
       "      <td>-0.268007</td>\n",
       "      <td>-0.200996</td>\n",
       "      <td>-0.041588</td>\n",
       "      <td>-0.250456</td>\n",
       "      <td>-0.400998</td>\n",
       "      <td>-0.191804</td>\n",
       "      <td>-0.129674</td>\n",
       "      <td>-0.102635</td>\n",
       "      <td>-0.10655</td>\n",
       "      <td>0.478611</td>\n",
       "      <td>-0.866326</td>\n",
       "    </tr>\n",
       "  </tbody>\n",
       "</table>\n",
       "</div>"
      ],
      "text/plain": [
       "   ANONYMOUS_2        AG        CO        CR        CU        FE       H2O  \\\n",
       "0    -0.340760 -0.150214 -0.089633  0.339245  0.336858  1.331290 -0.041588   \n",
       "1    -0.022576 -0.150214 -0.089633 -0.115388 -0.027612 -0.330406 -0.041588   \n",
       "2    -0.340760 -0.150214 -0.089633 -0.080416 -0.252497 -0.326655 -0.041588   \n",
       "3    -0.340760 -0.150214 -0.089633 -0.115388 -0.260252 -0.264764 -0.041588   \n",
       "4    -0.340760 -0.150214 -0.089633 -0.115388 -0.268007 -0.200996 -0.041588   \n",
       "\n",
       "         MN        MO        NI   PQINDEX        TI        V       V40  \\\n",
       "0  1.186914 -0.384284  1.384414  5.293270  0.622282 -0.10655  0.899892   \n",
       "1 -0.250456 -0.400998 -0.191804 -0.259244 -0.102635 -0.10655 -1.317376   \n",
       "2 -0.250456 -0.400998 -0.191804 -0.260552 -0.102635 -0.10655 -0.740886   \n",
       "3 -0.160621 -0.400998 -0.191804 -0.242884 -0.102635 -0.10655  0.482642   \n",
       "4 -0.250456 -0.400998 -0.191804 -0.129674 -0.102635 -0.10655  0.478611   \n",
       "\n",
       "         ZN  \n",
       "0 -0.966002  \n",
       "1  0.119147  \n",
       "2 -0.332215  \n",
       "3 -1.093888  \n",
       "4 -0.866326  "
      ]
     },
     "execution_count": 18,
     "metadata": {},
     "output_type": "execute_result"
    }
   ],
   "source": [
    "data_df.head()"
   ]
  },
  {
   "cell_type": "markdown",
   "id": "f1db07d1",
   "metadata": {},
   "source": [
    "## Scaled Data 합치기"
   ]
  },
  {
   "cell_type": "code",
   "execution_count": 19,
   "id": "7ee34b7f",
   "metadata": {},
   "outputs": [],
   "source": [
    "# 합치기\n",
    "data = pd.concat([ohe_df, data_df], axis=1)"
   ]
  },
  {
   "cell_type": "code",
   "execution_count": 20,
   "id": "86f094f8",
   "metadata": {},
   "outputs": [],
   "source": [
    "data['label'] = target"
   ]
  },
  {
   "cell_type": "code",
   "execution_count": 21,
   "id": "465f7144",
   "metadata": {},
   "outputs": [
    {
     "data": {
      "text/html": [
       "<div>\n",
       "<style scoped>\n",
       "    .dataframe tbody tr th:only-of-type {\n",
       "        vertical-align: middle;\n",
       "    }\n",
       "\n",
       "    .dataframe tbody tr th {\n",
       "        vertical-align: top;\n",
       "    }\n",
       "\n",
       "    .dataframe thead th {\n",
       "        text-align: right;\n",
       "    }\n",
       "</style>\n",
       "<table border=\"1\" class=\"dataframe\">\n",
       "  <thead>\n",
       "    <tr style=\"text-align: right;\">\n",
       "      <th></th>\n",
       "      <th>x0_COMPONENT1</th>\n",
       "      <th>x0_COMPONENT2</th>\n",
       "      <th>x0_COMPONENT3</th>\n",
       "      <th>x0_COMPONENT4</th>\n",
       "      <th>ANONYMOUS_2</th>\n",
       "      <th>AG</th>\n",
       "      <th>CO</th>\n",
       "      <th>CR</th>\n",
       "      <th>CU</th>\n",
       "      <th>FE</th>\n",
       "      <th>H2O</th>\n",
       "      <th>MN</th>\n",
       "      <th>MO</th>\n",
       "      <th>NI</th>\n",
       "      <th>PQINDEX</th>\n",
       "      <th>TI</th>\n",
       "      <th>V</th>\n",
       "      <th>V40</th>\n",
       "      <th>ZN</th>\n",
       "      <th>label</th>\n",
       "    </tr>\n",
       "  </thead>\n",
       "  <tbody>\n",
       "    <tr>\n",
       "      <th>0</th>\n",
       "      <td>0.0</td>\n",
       "      <td>0.0</td>\n",
       "      <td>1.0</td>\n",
       "      <td>0.0</td>\n",
       "      <td>-0.340760</td>\n",
       "      <td>-0.150214</td>\n",
       "      <td>-0.089633</td>\n",
       "      <td>0.339245</td>\n",
       "      <td>0.336858</td>\n",
       "      <td>1.331290</td>\n",
       "      <td>-0.041588</td>\n",
       "      <td>1.186914</td>\n",
       "      <td>-0.384284</td>\n",
       "      <td>1.384414</td>\n",
       "      <td>5.293270</td>\n",
       "      <td>0.622282</td>\n",
       "      <td>-0.10655</td>\n",
       "      <td>0.899892</td>\n",
       "      <td>-0.966002</td>\n",
       "      <td>0</td>\n",
       "    </tr>\n",
       "    <tr>\n",
       "      <th>1</th>\n",
       "      <td>0.0</td>\n",
       "      <td>1.0</td>\n",
       "      <td>0.0</td>\n",
       "      <td>0.0</td>\n",
       "      <td>-0.022576</td>\n",
       "      <td>-0.150214</td>\n",
       "      <td>-0.089633</td>\n",
       "      <td>-0.115388</td>\n",
       "      <td>-0.027612</td>\n",
       "      <td>-0.330406</td>\n",
       "      <td>-0.041588</td>\n",
       "      <td>-0.250456</td>\n",
       "      <td>-0.400998</td>\n",
       "      <td>-0.191804</td>\n",
       "      <td>-0.259244</td>\n",
       "      <td>-0.102635</td>\n",
       "      <td>-0.10655</td>\n",
       "      <td>-1.317376</td>\n",
       "      <td>0.119147</td>\n",
       "      <td>0</td>\n",
       "    </tr>\n",
       "    <tr>\n",
       "      <th>2</th>\n",
       "      <td>0.0</td>\n",
       "      <td>1.0</td>\n",
       "      <td>0.0</td>\n",
       "      <td>0.0</td>\n",
       "      <td>-0.340760</td>\n",
       "      <td>-0.150214</td>\n",
       "      <td>-0.089633</td>\n",
       "      <td>-0.080416</td>\n",
       "      <td>-0.252497</td>\n",
       "      <td>-0.326655</td>\n",
       "      <td>-0.041588</td>\n",
       "      <td>-0.250456</td>\n",
       "      <td>-0.400998</td>\n",
       "      <td>-0.191804</td>\n",
       "      <td>-0.260552</td>\n",
       "      <td>-0.102635</td>\n",
       "      <td>-0.10655</td>\n",
       "      <td>-0.740886</td>\n",
       "      <td>-0.332215</td>\n",
       "      <td>1</td>\n",
       "    </tr>\n",
       "    <tr>\n",
       "      <th>3</th>\n",
       "      <td>0.0</td>\n",
       "      <td>0.0</td>\n",
       "      <td>1.0</td>\n",
       "      <td>0.0</td>\n",
       "      <td>-0.340760</td>\n",
       "      <td>-0.150214</td>\n",
       "      <td>-0.089633</td>\n",
       "      <td>-0.115388</td>\n",
       "      <td>-0.260252</td>\n",
       "      <td>-0.264764</td>\n",
       "      <td>-0.041588</td>\n",
       "      <td>-0.160621</td>\n",
       "      <td>-0.400998</td>\n",
       "      <td>-0.191804</td>\n",
       "      <td>-0.242884</td>\n",
       "      <td>-0.102635</td>\n",
       "      <td>-0.10655</td>\n",
       "      <td>0.482642</td>\n",
       "      <td>-1.093888</td>\n",
       "      <td>0</td>\n",
       "    </tr>\n",
       "    <tr>\n",
       "      <th>4</th>\n",
       "      <td>0.0</td>\n",
       "      <td>0.0</td>\n",
       "      <td>1.0</td>\n",
       "      <td>0.0</td>\n",
       "      <td>-0.340760</td>\n",
       "      <td>-0.150214</td>\n",
       "      <td>-0.089633</td>\n",
       "      <td>-0.115388</td>\n",
       "      <td>-0.268007</td>\n",
       "      <td>-0.200996</td>\n",
       "      <td>-0.041588</td>\n",
       "      <td>-0.250456</td>\n",
       "      <td>-0.400998</td>\n",
       "      <td>-0.191804</td>\n",
       "      <td>-0.129674</td>\n",
       "      <td>-0.102635</td>\n",
       "      <td>-0.10655</td>\n",
       "      <td>0.478611</td>\n",
       "      <td>-0.866326</td>\n",
       "      <td>0</td>\n",
       "    </tr>\n",
       "  </tbody>\n",
       "</table>\n",
       "</div>"
      ],
      "text/plain": [
       "   x0_COMPONENT1  x0_COMPONENT2  x0_COMPONENT3  x0_COMPONENT4  ANONYMOUS_2  \\\n",
       "0            0.0            0.0            1.0            0.0    -0.340760   \n",
       "1            0.0            1.0            0.0            0.0    -0.022576   \n",
       "2            0.0            1.0            0.0            0.0    -0.340760   \n",
       "3            0.0            0.0            1.0            0.0    -0.340760   \n",
       "4            0.0            0.0            1.0            0.0    -0.340760   \n",
       "\n",
       "         AG        CO        CR        CU        FE       H2O        MN  \\\n",
       "0 -0.150214 -0.089633  0.339245  0.336858  1.331290 -0.041588  1.186914   \n",
       "1 -0.150214 -0.089633 -0.115388 -0.027612 -0.330406 -0.041588 -0.250456   \n",
       "2 -0.150214 -0.089633 -0.080416 -0.252497 -0.326655 -0.041588 -0.250456   \n",
       "3 -0.150214 -0.089633 -0.115388 -0.260252 -0.264764 -0.041588 -0.160621   \n",
       "4 -0.150214 -0.089633 -0.115388 -0.268007 -0.200996 -0.041588 -0.250456   \n",
       "\n",
       "         MO        NI   PQINDEX        TI        V       V40        ZN  label  \n",
       "0 -0.384284  1.384414  5.293270  0.622282 -0.10655  0.899892 -0.966002      0  \n",
       "1 -0.400998 -0.191804 -0.259244 -0.102635 -0.10655 -1.317376  0.119147      0  \n",
       "2 -0.400998 -0.191804 -0.260552 -0.102635 -0.10655 -0.740886 -0.332215      1  \n",
       "3 -0.400998 -0.191804 -0.242884 -0.102635 -0.10655  0.482642 -1.093888      0  \n",
       "4 -0.400998 -0.191804 -0.129674 -0.102635 -0.10655  0.478611 -0.866326      0  "
      ]
     },
     "execution_count": 21,
     "metadata": {},
     "output_type": "execute_result"
    }
   ],
   "source": [
    "data.head()"
   ]
  },
  {
   "cell_type": "markdown",
   "id": "73b6082b",
   "metadata": {},
   "source": [
    "## 이상치 처리"
   ]
  },
  {
   "cell_type": "code",
   "execution_count": 22,
   "id": "84123263",
   "metadata": {},
   "outputs": [
    {
     "name": "stderr",
     "output_type": "stream",
     "text": [
      "findfont: Font family ['malgun ghthic'] not found. Falling back to DejaVu Sans.\n"
     ]
    },
    {
     "data": {
      "image/png": "[encoded data removed]",
      "text/plain": [
       "<Figure size 720x576 with 1 Axes>"
      ]
     },
     "metadata": {},
     "output_type": "display_data"
    }
   ],
   "source": [
    "plt.boxplot(data.iloc[:, :-1])\n",
    "plt.show()"
   ]
  },
  {
   "cell_type": "code",
   "execution_count": 23,
   "id": "753a686c",
   "metadata": {
    "ExecuteTime": {
     "end_time": "2022-11-09T09:02:53.318466Z",
     "start_time": "2022-11-09T09:02:53.303508Z"
    }
   },
   "outputs": [
    {
     "data": {
      "text/plain": [
       "<AxesSubplot:>"
      ]
     },
     "execution_count": 23,
     "metadata": {},
     "output_type": "execute_result"
    },
    {
     "data": {
      "image/png": "[encoded data removed]",
      "text/plain": [
       "<Figure size 720x576 with 1 Axes>"
      ]
     },
     "metadata": {},
     "output_type": "display_data"
    }
   ],
   "source": [
    "sns.boxplot(data=data, dodge=False)"
   ]
  },
  {
   "cell_type": "markdown",
   "id": "c11efba3",
   "metadata": {},
   "source": [
    "# 데이터 분리"
   ]
  },
  {
   "cell_type": "code",
   "execution_count": 24,
   "id": "05fb761d",
   "metadata": {},
   "outputs": [],
   "source": [
    "data = data.iloc[:, :-1].to_numpy()"
   ]
  },
  {
   "cell_type": "code",
   "execution_count": 25,
   "id": "8f4f2732",
   "metadata": {},
   "outputs": [
    {
     "data": {
      "text/plain": [
       "(14095, 19)"
      ]
     },
     "execution_count": 25,
     "metadata": {},
     "output_type": "execute_result"
    }
   ],
   "source": [
    "data.shape"
   ]
  },
  {
   "cell_type": "code",
   "execution_count": 65,
   "id": "53e57bce",
   "metadata": {},
   "outputs": [],
   "source": [
    "from sklearn.model_selection import train_test_split\n",
    "X_train, X_test, y_train, y_test = train_test_split(data, target,\n",
    "                                                   test_size=0.2, stratify = target, random_state=2022)"
   ]
  },
  {
   "cell_type": "markdown",
   "id": "f4bffc15",
   "metadata": {},
   "source": [
    "# 분류\n",
    " - 로지스틱 회귀나 분류 알고리즘 이용하여 모델 생성\n",
    " - 점수확인 "
   ]
  },
  {
   "cell_type": "markdown",
   "id": "cbdb3385",
   "metadata": {},
   "source": [
    "## 로지스틱"
   ]
  },
  {
   "cell_type": "code",
   "execution_count": 66,
   "id": "29434ab6",
   "metadata": {},
   "outputs": [
    {
     "data": {
      "text/plain": [
       "array([0, 0, 0, ..., 0, 0, 0], dtype=int64)"
      ]
     },
     "execution_count": 66,
     "metadata": {},
     "output_type": "execute_result"
    }
   ],
   "source": [
    "from sklearn.linear_model import LogisticRegression\n",
    "from scipy.special import expit\n",
    "\n",
    "lr = LogisticRegression()\n",
    "lr.fit(X_train, y_train)\n",
    "\n",
    "pred = lr.predict(X_test)\n",
    "pred"
   ]
  },
  {
   "cell_type": "code",
   "execution_count": 67,
   "id": "09f2246b",
   "metadata": {},
   "outputs": [
    {
     "data": {
      "text/plain": [
       "array([[0.90642782, 0.09357218],\n",
       "       [0.90465545, 0.09534455],\n",
       "       [0.91871374, 0.08128626],\n",
       "       ...,\n",
       "       [0.90384331, 0.09615669],\n",
       "       [0.90813399, 0.09186601],\n",
       "       [0.91571629, 0.08428371]])"
      ]
     },
     "execution_count": 67,
     "metadata": {},
     "output_type": "execute_result"
    }
   ],
   "source": [
    "lr.predict_proba(X_test)"
   ]
  },
  {
   "cell_type": "code",
   "execution_count": 68,
   "id": "027f5823",
   "metadata": {},
   "outputs": [
    {
     "name": "stdout",
     "output_type": "stream",
     "text": [
      "[[ 0.08448768  0.20075266 -0.03992452 -0.24719566 -0.2533975   0.05512521\n",
      "  -0.09713094 -0.00537291  0.02912717  0.14298864 -0.11054124 -0.04086505\n",
      "   0.04739263  0.03501244  0.0108469   0.00775222  0.02073911  0.09065892\n",
      "  -0.06297534]] [-2.43179832]\n"
     ]
    }
   ],
   "source": [
    "#   기울기     와     절편\n",
    "print(lr.coef_, lr.intercept_)"
   ]
  },
  {
   "cell_type": "code",
   "execution_count": 69,
   "id": "d5389e91",
   "metadata": {},
   "outputs": [
    {
     "data": {
      "text/plain": [
       "array([-2.27077832, -2.25005698, -2.42499758, ..., -2.24067696,\n",
       "       -2.29106079, -2.38551796])"
      ]
     },
     "execution_count": 69,
     "metadata": {},
     "output_type": "execute_result"
    }
   ],
   "source": [
    "# z값 계산\n",
    "decisions = lr.decision_function(X_test)\n",
    "decisions"
   ]
  },
  {
   "cell_type": "code",
   "execution_count": 70,
   "id": "49392f24",
   "metadata": {},
   "outputs": [
    {
     "name": "stdout",
     "output_type": "stream",
     "text": [
      "[0.09357218 0.09534455 0.08128626 ... 0.09615669 0.09186601 0.08428371]\n",
      "[0.90642782 0.90465545 0.91871374 ... 0.90384331 0.90813399 0.91571629]\n"
     ]
    }
   ],
   "source": [
    "from scipy.special import expit\n",
    "\n",
    "print(expit(decisions))\n",
    "print(1 - expit(decisions))\n"
   ]
  },
  {
   "cell_type": "code",
   "execution_count": 71,
   "id": "28001e8d",
   "metadata": {},
   "outputs": [
    {
     "name": "stdout",
     "output_type": "stream",
     "text": [
      "0.9145973749556581\n",
      "0.914153955303299\n",
      "Macro f1 socre :  0.47757598220904374\n"
     ]
    }
   ],
   "source": [
    "print(lr.score(X_train, y_train))\n",
    "print(lr.score(X_test, y_test))\n",
    "print('Macro f1 socre : ', f1_score(y_test, pred, labels=[0,1], average='macro'))"
   ]
  },
  {
   "cell_type": "code",
   "execution_count": 72,
   "id": "0adf66e0",
   "metadata": {},
   "outputs": [
    {
     "data": {
      "image/png": "[encoded data removed]",
      "text/plain": [
       "<Figure size 720x576 with 1 Axes>"
      ]
     },
     "metadata": {},
     "output_type": "display_data"
    }
   ],
   "source": [
    "def sigmoid(x):\n",
    "    return 1 / (1+np.exp(-x))\n",
    "\n",
    "train = np.arange(-12, 12, 0.1)\n",
    "result = sigmoid(train)\n",
    "\n",
    "plt.plot(train, result)\n",
    "plt.scatter(decisions, expit(decisions),marker='^' ,color = 'g', s=60)\n",
    "plt.scatter(0, 0.5, marker = 'D', color = 'black')\n",
    "\n",
    "plt.title('시그모이드 시각화')\n",
    "plt.xlabel('Z값')\n",
    "plt.ylabel('시그모이드값')\n",
    "plt.ylim(-0.1, 1.1)\n",
    "plt.show()"
   ]
  },
  {
   "cell_type": "markdown",
   "id": "1d0f79f6",
   "metadata": {},
   "source": [
    "## RandomForest"
   ]
  },
  {
   "cell_type": "code",
   "execution_count": 73,
   "id": "0c021b79",
   "metadata": {},
   "outputs": [
    {
     "data": {
      "text/plain": [
       "RandomForestClassifier(n_jobs=-1, random_state=2022)"
      ]
     },
     "execution_count": 73,
     "metadata": {},
     "output_type": "execute_result"
    }
   ],
   "source": [
    "from sklearn.ensemble import RandomForestClassifier\n",
    "\n",
    "\n",
    "rf = RandomForestClassifier(n_jobs=-1, random_state = 2022)\n",
    "rf.fit(X_train, y_train)"
   ]
  },
  {
   "cell_type": "code",
   "execution_count": 74,
   "id": "14ed4205",
   "metadata": {},
   "outputs": [],
   "source": [
    "rf_pred = rf.predict(X_test)"
   ]
  },
  {
   "cell_type": "code",
   "execution_count": 75,
   "id": "87dc9f1f",
   "metadata": {},
   "outputs": [
    {
     "name": "stdout",
     "output_type": "stream",
     "text": [
      "Macro f1 socre :  0.4900865445380822\n"
     ]
    }
   ],
   "source": [
    "print('Macro f1 socre : ', f1_score(y_test, rf_pred, labels=[0,1], average='macro'))"
   ]
  },
  {
   "cell_type": "code",
   "execution_count": 76,
   "id": "617403fb",
   "metadata": {},
   "outputs": [],
   "source": [
    "# pd.DataFrame(X_train)"
   ]
  },
  {
   "cell_type": "markdown",
   "id": "a6b236fa",
   "metadata": {},
   "source": [
    "# 그리드서치"
   ]
  },
  {
   "cell_type": "code",
   "execution_count": 77,
   "id": "b9f907f4",
   "metadata": {},
   "outputs": [
    {
     "data": {
      "text/plain": [
       "XGBClassifier(base_score=0.5, booster='gbtree', callbacks=None,\n",
       "              colsample_bylevel=1, colsample_bynode=1, colsample_bytree=1,\n",
       "              early_stopping_rounds=None, enable_categorical=False,\n",
       "              eval_metric=None, feature_types=None, gamma=2, gpu_id=-1,\n",
       "              grow_policy='depthwise', importance_type=None,\n",
       "              interaction_constraints='', learning_rate=0.01, max_bin=256,\n",
       "              max_cat_threshold=64, max_cat_to_onehot=4, max_delta_step=0,\n",
       "              max_depth=6, max_leaves=0, min_child_weight=1, missing=nan,\n",
       "              monotone_constraints='()', n_estimators=12, n_jobs=0,\n",
       "              num_parallel_tree=1, predictor='auto', random_state=99, ...)"
      ]
     },
     "execution_count": 77,
     "metadata": {},
     "output_type": "execute_result"
    }
   ],
   "source": [
    "import xgboost as xgb\n",
    "from xgboost import XGBClassifier\n",
    "from sklearn.model_selection import GridSearchCV\n",
    "\n",
    "xg = XGBClassifier()\n",
    "xg_parameters ={'max_depth' : [3,4,5,6] , 'n_estimators': [12,24,32],\n",
    "                'learning_rate':[0.01, 0.1], 'gamma': [0.5, 1, 2], 'random_state':[99]}\n",
    "\n",
    "grid_search_xg = GridSearchCV( estimator = xg, param_grid = xg_parameters, scoring = 'f1_macro', cv = 10,n_jobs=1 )\n",
    "grid_search_xg.fit(X_train, y_train )\n",
    "best_xg = grid_search_xg.best_estimator_\n",
    "best_xg\n",
    "\n"
   ]
  },
  {
   "cell_type": "markdown",
   "id": "f227ab46",
   "metadata": {},
   "source": [
    "## Xgboost"
   ]
  },
  {
   "cell_type": "markdown",
   "id": "c43614e4",
   "metadata": {},
   "source": [
    "### HyperOpt"
   ]
  },
  {
   "cell_type": "code",
   "execution_count": 80,
   "id": "b2a66ef5",
   "metadata": {},
   "outputs": [
    {
     "name": "stdout",
     "output_type": "stream",
     "text": [
      "Requirement already satisfied: hyperopt in c:\\anaconda3\\lib\\site-packages (0.2.7)\n",
      "Requirement already satisfied: numpy in c:\\anaconda3\\lib\\site-packages (from hyperopt) (1.20.3)\n",
      "Requirement already satisfied: networkx>=2.2 in c:\\anaconda3\\lib\\site-packages (from hyperopt) (2.6.3)\n",
      "Requirement already satisfied: future in c:\\anaconda3\\lib\\site-packages (from hyperopt) (0.18.2)\n",
      "Requirement already satisfied: six in c:\\anaconda3\\lib\\site-packages (from hyperopt) (1.16.0)\n",
      "Requirement already satisfied: scipy in c:\\anaconda3\\lib\\site-packages (from hyperopt) (1.7.1)\n",
      "Requirement already satisfied: tqdm in c:\\anaconda3\\lib\\site-packages (from hyperopt) (4.62.3)\n",
      "Requirement already satisfied: py4j in c:\\anaconda3\\lib\\site-packages (from hyperopt) (0.10.9.7)\n",
      "Requirement already satisfied: cloudpickle in c:\\anaconda3\\lib\\site-packages (from hyperopt) (2.0.0)\n",
      "Requirement already satisfied: colorama in c:\\anaconda3\\lib\\site-packages (from tqdm->hyperopt) (0.4.4)\n"
     ]
    }
   ],
   "source": [
    "!pip install hyperopt"
   ]
  },
  {
   "cell_type": "code",
   "execution_count": 82,
   "id": "f3f49fbf",
   "metadata": {},
   "outputs": [],
   "source": [
    "X_tr, X_val, y_tr, y_val = train_test_split(X_train, y_train, test_size = 0.1, stratify = y_train, random_state=2022)\n",
    "\n",
    "from hyperopt import hp\n",
    "\n",
    "xgb_search_space = {'max_depth' : hp.quniform('max_depth',5,20,1),\n",
    "                   'min_child_weight':hp.quniform('min_child_weight',1,2,1),\n",
    "                   'learning_rate':hp.uniform('learning_rate',0.01,0.2),\n",
    "                   'colsample_bytree':hp.uniform('colsample_bytree',0.5,1),}"
   ]
  },
  {
   "cell_type": "code",
   "execution_count": 83,
   "id": "0c18fb54",
   "metadata": {},
   "outputs": [],
   "source": [
    "from sklearn.model_selection import cross_val_score\n",
    "from xgboost import XGBClassifier\n",
    "from hyperopt import STATUS_OK\n",
    "\n",
    "def objective_func(search_space):\n",
    "    xgb_clf = XGBClassifier(n_estimators = 100, max_depth=int(search_space['max_depth']),\n",
    "                            min_child_weight=int(search_space['min_child_weight']),\n",
    "                            learning_rate=search_space['learning_rate'],\n",
    "                            colsample_bytree=search_space['colsample_bytree'],\n",
    "                            eval_metric='logloss')\n",
    "    accuracy = cross_val_score(xgb_clf, X_train, y_train, scoring='accuracy', cv=3)\n",
    "    \n",
    "    return {'loss':(-1) * np.mean(accuracy), 'status':STATUS_OK}"
   ]
  },
  {
   "cell_type": "code",
   "execution_count": 84,
   "id": "54977bc7",
   "metadata": {},
   "outputs": [
    {
     "name": "stdout",
     "output_type": "stream",
     "text": [
      "100%|███████████████████████████████████████████████| 50/50 [01:26<00:00,  1.74s/trial, best loss: -0.9148634490043953]\n",
      "best: {'colsample_bytree': 0.7316517614434123, 'learning_rate': 0.02057390828839449, 'max_depth': 12.0, 'min_child_weight': 2.0}\n"
     ]
    }
   ],
   "source": [
    "from hyperopt import fmin, tpe, Trials\n",
    "\n",
    "trial_val = Trials()  ## 결과 저장\n",
    "\n",
    "best = fmin(fn=objective_func,\n",
    "            space=xgb_search_space,\n",
    "            algo=tpe.suggest,\n",
    "            max_evals=50,\n",
    "            trials=trial_val,\n",
    "            rstate=np.random.default_rng(seed=9))\n",
    "print('best:', best)"
   ]
  },
  {
   "cell_type": "code",
   "execution_count": 85,
   "id": "e6eb5d31",
   "metadata": {},
   "outputs": [
    {
     "name": "stdout",
     "output_type": "stream",
     "text": [
      "colsample_bytree:0.73165, learning_rate:0.02057, max_depth:12, min_child_weight:2\n"
     ]
    }
   ],
   "source": [
    "print('colsample_bytree:{0}, learning_rate:{1}, max_depth:{2}, min_child_weight:{3}'.format(\n",
    "    round(best['colsample_bytree'], 5), round(best['learning_rate'], 5),\n",
    "    int(best['max_depth']), int(best['min_child_weight'])))"
   ]
  },
  {
   "cell_type": "code",
   "execution_count": 86,
   "id": "a5dc339c",
   "metadata": {},
   "outputs": [],
   "source": [
    "def get_clf_eval(y_test, pred = None, pred_proba = None):\n",
    "    confusion = confusion_matrix(y_test, pred)\n",
    "    accuracy = accuracy_score(y_test, pred)\n",
    "    precision = precision_score(y_test, pred)\n",
    "    recall = recall_score(y_test, pred)\n",
    "    f1 = f1_score(y_test, pred)\n",
    "    roc_auc = roc_auc_score(y_test, pred_proba)\n",
    "    print('오차 행렬')\n",
    "    print(confusion)\n",
    "    print('정확도 : {:.4f}, 정밀도 : {:.4f}, 재현율 : {:.4f}, F1 : {:.4f}, AUC : {:.4f}'.\n",
    "          format(accuracy, precision, recall, f1, roc_auc))"
   ]
  },
  {
   "cell_type": "code",
   "execution_count": 87,
   "id": "33a644ab",
   "metadata": {},
   "outputs": [],
   "source": [
    "from sklearn.model_selection import train_test_split\n",
    "from sklearn.metrics import accuracy_score, precision_score, recall_score, roc_auc_score\n",
    "from sklearn.metrics import f1_score, confusion_matrix, precision_recall_curve, roc_curve\n",
    "\n",
    "from sklearn.preprocessing import StandardScaler, MinMaxScaler\n",
    "from sklearn.linear_model import LogisticRegression\n",
    "from sklearn.preprocessing import Binarizer"
   ]
  },
  {
   "cell_type": "code",
   "execution_count": 64,
   "id": "1221276d",
   "metadata": {},
   "outputs": [
    {
     "name": "stdout",
     "output_type": "stream",
     "text": [
      "[0]\tvalidation_0-logloss:0.64259\tvalidation_1-logloss:0.64153\n",
      "[1]\tvalidation_0-logloss:0.59903\tvalidation_1-logloss:0.59706\n",
      "[2]\tvalidation_0-logloss:0.56126\tvalidation_1-logloss:0.55845\n",
      "[3]\tvalidation_0-logloss:0.52835\tvalidation_1-logloss:0.52508\n",
      "[4]\tvalidation_0-logloss:0.49933\tvalidation_1-logloss:0.49620\n",
      "[5]\tvalidation_0-logloss:0.47387\tvalidation_1-logloss:0.47034\n",
      "[6]\tvalidation_0-logloss:0.45157\tvalidation_1-logloss:0.44775\n",
      "[7]\tvalidation_0-logloss:0.43184\tvalidation_1-logloss:0.42778\n",
      "[8]\tvalidation_0-logloss:0.41417\tvalidation_1-logloss:0.40986\n",
      "[9]\tvalidation_0-logloss:0.39862\tvalidation_1-logloss:0.39443\n",
      "[10]\tvalidation_0-logloss:0.38481\tvalidation_1-logloss:0.38072\n",
      "[11]\tvalidation_0-logloss:0.37209\tvalidation_1-logloss:0.36841\n",
      "[12]\tvalidation_0-logloss:0.36081\tvalidation_1-logloss:0.35737\n",
      "[13]\tvalidation_0-logloss:0.35056\tvalidation_1-logloss:0.34729\n",
      "[14]\tvalidation_0-logloss:0.34161\tvalidation_1-logloss:0.33874\n",
      "[15]\tvalidation_0-logloss:0.33364\tvalidation_1-logloss:0.33079\n",
      "[16]\tvalidation_0-logloss:0.32631\tvalidation_1-logloss:0.32381\n",
      "[17]\tvalidation_0-logloss:0.31969\tvalidation_1-logloss:0.31747\n",
      "[18]\tvalidation_0-logloss:0.31382\tvalidation_1-logloss:0.31203\n",
      "[19]\tvalidation_0-logloss:0.30831\tvalidation_1-logloss:0.30702\n",
      "[20]\tvalidation_0-logloss:0.30346\tvalidation_1-logloss:0.30267\n",
      "[21]\tvalidation_0-logloss:0.29938\tvalidation_1-logloss:0.29882\n",
      "[22]\tvalidation_0-logloss:0.29518\tvalidation_1-logloss:0.29524\n",
      "[23]\tvalidation_0-logloss:0.29181\tvalidation_1-logloss:0.29216\n",
      "[24]\tvalidation_0-logloss:0.28848\tvalidation_1-logloss:0.28938\n",
      "[25]\tvalidation_0-logloss:0.28558\tvalidation_1-logloss:0.28679\n",
      "[26]\tvalidation_0-logloss:0.28282\tvalidation_1-logloss:0.28462\n",
      "[27]\tvalidation_0-logloss:0.28051\tvalidation_1-logloss:0.28259\n",
      "[28]\tvalidation_0-logloss:0.27824\tvalidation_1-logloss:0.28094\n",
      "[29]\tvalidation_0-logloss:0.27630\tvalidation_1-logloss:0.27962\n",
      "[30]\tvalidation_0-logloss:0.27436\tvalidation_1-logloss:0.27807\n",
      "[31]\tvalidation_0-logloss:0.27266\tvalidation_1-logloss:0.27679\n",
      "[32]\tvalidation_0-logloss:0.27124\tvalidation_1-logloss:0.27574\n",
      "[33]\tvalidation_0-logloss:0.26949\tvalidation_1-logloss:0.27464\n",
      "[34]\tvalidation_0-logloss:0.26832\tvalidation_1-logloss:0.27395\n",
      "[35]\tvalidation_0-logloss:0.26692\tvalidation_1-logloss:0.27311\n",
      "[36]\tvalidation_0-logloss:0.26587\tvalidation_1-logloss:0.27267\n",
      "[37]\tvalidation_0-logloss:0.26453\tvalidation_1-logloss:0.27192\n",
      "[38]\tvalidation_0-logloss:0.26367\tvalidation_1-logloss:0.27133\n",
      "[39]\tvalidation_0-logloss:0.26249\tvalidation_1-logloss:0.27102\n",
      "[40]\tvalidation_0-logloss:0.26113\tvalidation_1-logloss:0.27026\n",
      "[41]\tvalidation_0-logloss:0.26007\tvalidation_1-logloss:0.26976\n",
      "[42]\tvalidation_0-logloss:0.25925\tvalidation_1-logloss:0.26961\n",
      "[43]\tvalidation_0-logloss:0.25876\tvalidation_1-logloss:0.26927\n",
      "[44]\tvalidation_0-logloss:0.25766\tvalidation_1-logloss:0.26932\n",
      "[45]\tvalidation_0-logloss:0.25689\tvalidation_1-logloss:0.26903\n",
      "[46]\tvalidation_0-logloss:0.25624\tvalidation_1-logloss:0.26869\n",
      "[47]\tvalidation_0-logloss:0.25550\tvalidation_1-logloss:0.26852\n",
      "[48]\tvalidation_0-logloss:0.25522\tvalidation_1-logloss:0.26824\n",
      "[49]\tvalidation_0-logloss:0.25466\tvalidation_1-logloss:0.26812\n",
      "[50]\tvalidation_0-logloss:0.25407\tvalidation_1-logloss:0.26803\n",
      "[51]\tvalidation_0-logloss:0.25366\tvalidation_1-logloss:0.26796\n",
      "[52]\tvalidation_0-logloss:0.25320\tvalidation_1-logloss:0.26766\n",
      "[53]\tvalidation_0-logloss:0.25291\tvalidation_1-logloss:0.26752\n",
      "[54]\tvalidation_0-logloss:0.25248\tvalidation_1-logloss:0.26735\n",
      "[55]\tvalidation_0-logloss:0.25200\tvalidation_1-logloss:0.26743\n",
      "[56]\tvalidation_0-logloss:0.25175\tvalidation_1-logloss:0.26756\n",
      "[57]\tvalidation_0-logloss:0.25139\tvalidation_1-logloss:0.26756\n",
      "[58]\tvalidation_0-logloss:0.25080\tvalidation_1-logloss:0.26755\n",
      "[59]\tvalidation_0-logloss:0.25046\tvalidation_1-logloss:0.26762\n",
      "[60]\tvalidation_0-logloss:0.24987\tvalidation_1-logloss:0.26760\n",
      "[61]\tvalidation_0-logloss:0.24953\tvalidation_1-logloss:0.26765\n",
      "[62]\tvalidation_0-logloss:0.24922\tvalidation_1-logloss:0.26764\n",
      "[63]\tvalidation_0-logloss:0.24889\tvalidation_1-logloss:0.26757\n",
      "[64]\tvalidation_0-logloss:0.24857\tvalidation_1-logloss:0.26751\n",
      "[65]\tvalidation_0-logloss:0.24822\tvalidation_1-logloss:0.26762\n",
      "[66]\tvalidation_0-logloss:0.24783\tvalidation_1-logloss:0.26743\n",
      "[67]\tvalidation_0-logloss:0.24763\tvalidation_1-logloss:0.26759\n",
      "[68]\tvalidation_0-logloss:0.24703\tvalidation_1-logloss:0.26769\n",
      "[69]\tvalidation_0-logloss:0.24671\tvalidation_1-logloss:0.26755\n",
      "[70]\tvalidation_0-logloss:0.24647\tvalidation_1-logloss:0.26773\n",
      "[71]\tvalidation_0-logloss:0.24632\tvalidation_1-logloss:0.26784\n",
      "[72]\tvalidation_0-logloss:0.24618\tvalidation_1-logloss:0.26772\n",
      "[73]\tvalidation_0-logloss:0.24593\tvalidation_1-logloss:0.26775\n",
      "[74]\tvalidation_0-logloss:0.24562\tvalidation_1-logloss:0.26758\n",
      "[75]\tvalidation_0-logloss:0.24539\tvalidation_1-logloss:0.26753\n",
      "[76]\tvalidation_0-logloss:0.24488\tvalidation_1-logloss:0.26753\n",
      "[77]\tvalidation_0-logloss:0.24468\tvalidation_1-logloss:0.26746\n",
      "[78]\tvalidation_0-logloss:0.24441\tvalidation_1-logloss:0.26742\n",
      "[79]\tvalidation_0-logloss:0.24389\tvalidation_1-logloss:0.26746\n",
      "[80]\tvalidation_0-logloss:0.24375\tvalidation_1-logloss:0.26734\n",
      "[81]\tvalidation_0-logloss:0.24364\tvalidation_1-logloss:0.26739\n",
      "[82]\tvalidation_0-logloss:0.24347\tvalidation_1-logloss:0.26745\n",
      "[83]\tvalidation_0-logloss:0.24330\tvalidation_1-logloss:0.26760\n",
      "[84]\tvalidation_0-logloss:0.24312\tvalidation_1-logloss:0.26768\n",
      "[85]\tvalidation_0-logloss:0.24300\tvalidation_1-logloss:0.26780\n",
      "[86]\tvalidation_0-logloss:0.24280\tvalidation_1-logloss:0.26774\n",
      "[87]\tvalidation_0-logloss:0.24270\tvalidation_1-logloss:0.26783\n",
      "[88]\tvalidation_0-logloss:0.24183\tvalidation_1-logloss:0.26820\n",
      "[89]\tvalidation_0-logloss:0.24165\tvalidation_1-logloss:0.26813\n",
      "[90]\tvalidation_0-logloss:0.24159\tvalidation_1-logloss:0.26817\n",
      "[91]\tvalidation_0-logloss:0.24132\tvalidation_1-logloss:0.26821\n",
      "[92]\tvalidation_0-logloss:0.24122\tvalidation_1-logloss:0.26834\n",
      "[93]\tvalidation_0-logloss:0.24056\tvalidation_1-logloss:0.26857\n",
      "[94]\tvalidation_0-logloss:0.24023\tvalidation_1-logloss:0.26875\n",
      "[95]\tvalidation_0-logloss:0.23997\tvalidation_1-logloss:0.26854\n",
      "[96]\tvalidation_0-logloss:0.23978\tvalidation_1-logloss:0.26854\n",
      "[97]\tvalidation_0-logloss:0.23943\tvalidation_1-logloss:0.26846\n",
      "[98]\tvalidation_0-logloss:0.23929\tvalidation_1-logloss:0.26844\n",
      "[99]\tvalidation_0-logloss:0.23915\tvalidation_1-logloss:0.26855\n",
      "[100]\tvalidation_0-logloss:0.23872\tvalidation_1-logloss:0.26844\n",
      "[101]\tvalidation_0-logloss:0.23856\tvalidation_1-logloss:0.26840\n",
      "[102]\tvalidation_0-logloss:0.23775\tvalidation_1-logloss:0.26866\n",
      "[103]\tvalidation_0-logloss:0.23754\tvalidation_1-logloss:0.26859\n",
      "[104]\tvalidation_0-logloss:0.23693\tvalidation_1-logloss:0.26822\n",
      "[105]\tvalidation_0-logloss:0.23597\tvalidation_1-logloss:0.26842\n",
      "[106]\tvalidation_0-logloss:0.23587\tvalidation_1-logloss:0.26851\n",
      "[107]\tvalidation_0-logloss:0.23541\tvalidation_1-logloss:0.26845\n",
      "[108]\tvalidation_0-logloss:0.23496\tvalidation_1-logloss:0.26853\n",
      "[109]\tvalidation_0-logloss:0.23486\tvalidation_1-logloss:0.26852\n",
      "[110]\tvalidation_0-logloss:0.23468\tvalidation_1-logloss:0.26841\n",
      "[111]\tvalidation_0-logloss:0.23423\tvalidation_1-logloss:0.26848\n",
      "[112]\tvalidation_0-logloss:0.23414\tvalidation_1-logloss:0.26843\n",
      "[113]\tvalidation_0-logloss:0.23360\tvalidation_1-logloss:0.26819\n",
      "[114]\tvalidation_0-logloss:0.23351\tvalidation_1-logloss:0.26834\n",
      "[115]\tvalidation_0-logloss:0.23337\tvalidation_1-logloss:0.26826\n",
      "[116]\tvalidation_0-logloss:0.23321\tvalidation_1-logloss:0.26824\n",
      "[117]\tvalidation_0-logloss:0.23302\tvalidation_1-logloss:0.26816\n",
      "[118]\tvalidation_0-logloss:0.23287\tvalidation_1-logloss:0.26815\n",
      "[119]\tvalidation_0-logloss:0.23281\tvalidation_1-logloss:0.26827\n",
      "[120]\tvalidation_0-logloss:0.23247\tvalidation_1-logloss:0.26825\n",
      "[121]\tvalidation_0-logloss:0.23216\tvalidation_1-logloss:0.26835\n",
      "[122]\tvalidation_0-logloss:0.23194\tvalidation_1-logloss:0.26852\n",
      "[123]\tvalidation_0-logloss:0.23177\tvalidation_1-logloss:0.26852\n",
      "[124]\tvalidation_0-logloss:0.23147\tvalidation_1-logloss:0.26862\n",
      "[125]\tvalidation_0-logloss:0.23124\tvalidation_1-logloss:0.26862\n",
      "[126]\tvalidation_0-logloss:0.23094\tvalidation_1-logloss:0.26847\n",
      "[127]\tvalidation_0-logloss:0.23040\tvalidation_1-logloss:0.26859\n",
      "[128]\tvalidation_0-logloss:0.23026\tvalidation_1-logloss:0.26877\n",
      "[129]\tvalidation_0-logloss:0.23017\tvalidation_1-logloss:0.26888\n"
     ]
    },
    {
     "name": "stdout",
     "output_type": "stream",
     "text": [
      "[130]\tvalidation_0-logloss:0.22968\tvalidation_1-logloss:0.26872\n",
      "오차 행렬\n",
      "[[2575    0]\n",
      " [ 243    1]]\n",
      "정확도 : 0.9138, 정밀도 : 1.0000, 재현율 : 0.0041, F1 : 0.0082, AUC : 0.5987\n"
     ]
    }
   ],
   "source": [
    "xgb_wrapper = XGBClassifier(\n",
    "    n_estimators=400,\n",
    "    learning_rate=round(best['learning_rate'], 5),\n",
    "    max_depth=int(best['max_depth']),\n",
    "    min_child_weight=int(best['min_child_weight']),\n",
    "    colsample_bytree=round(best['colsample_bytree'], 5)\n",
    ")\n",
    "\n",
    "evals = [(X_tr, y_tr), (X_val, y_val)]\n",
    "\n",
    "xgb_wrapper.fit(X_tr, y_tr, early_stopping_rounds=50, eval_metric='logloss', \n",
    "                eval_set=evals, verbose=True)\n",
    "\n",
    "preds = xgb_wrapper.predict(X_test)\n",
    "pred_proba = xgb_wrapper.predict_proba(X_test)[:, 1]\n",
    "\n",
    "get_clf_eval(y_test, preds, pred_proba)"
   ]
  },
  {
   "cell_type": "code",
   "execution_count": null,
   "id": "a9815308",
   "metadata": {},
   "outputs": [],
   "source": []
  },
  {
   "cell_type": "code",
   "execution_count": 57,
   "id": "4fe5a72e",
   "metadata": {},
   "outputs": [],
   "source": [
    "import xgboost as xgb\n",
    "\n",
    "X_tr, X_val, y_tr, y_val = train_test_split(X_train, y_train, test_size = 0.1, random_state=2022)\n",
    "# 90%  10%\n",
    "\n",
    "\n",
    "dtr = xgb.DMatrix(data=X_tr, label=y_tr)\n",
    "dval = xgb.DMatrix(data=X_val, label=y_val)\n",
    "dtest = xgb.DMatrix(data=X_test, label=y_test)\n",
    "\n",
    "\n",
    "params = {'max_depth': [3,4,5,6,7],  # 트기 최대 깊이 (3~10)\n",
    "          'eta': 0.05,     # 학습률 XGBClassifier인경우 learning_rate 사용해야함\n",
    "          'objective' : 'binary:logistic', # 0, 1 이진 분류이므로 목적함수(objective)는 이진 로지스틱(vinary:logistic)\n",
    "          'eval_metric' : 'logloss'}  # 회귀\n",
    "\n",
    "num_rounds = 400"
   ]
  },
  {
   "cell_type": "code",
   "execution_count": 58,
   "id": "f7c3ca84",
   "metadata": {},
   "outputs": [
    {
     "ename": "XGBoostError",
     "evalue": "Invalid Parameter format for max_depth expect int but value='[3, 4, 5, 6, 7]'",
     "output_type": "error",
     "traceback": [
      "\u001b[1;31m---------------------------------------------------------------------------\u001b[0m",
      "\u001b[1;31mXGBoostError\u001b[0m                              Traceback (most recent call last)",
      "\u001b[1;32m~\\AppData\\Local\\Temp/ipykernel_13696/3498903887.py\u001b[0m in \u001b[0;36m<module>\u001b[1;34m\u001b[0m\n\u001b[0;32m      6\u001b[0m \u001b[1;33m\u001b[0m\u001b[0m\n\u001b[0;32m      7\u001b[0m \u001b[1;31m# 하이퍼 파라미터와 early stopping 파라미터를 train()함수의 파라미터로 전달\u001b[0m\u001b[1;33m\u001b[0m\u001b[1;33m\u001b[0m\u001b[0m\n\u001b[1;32m----> 8\u001b[1;33m \u001b[0mxgb_model\u001b[0m \u001b[1;33m=\u001b[0m \u001b[0mxgb\u001b[0m\u001b[1;33m.\u001b[0m\u001b[0mtrain\u001b[0m\u001b[1;33m(\u001b[0m\u001b[0mparams\u001b[0m \u001b[1;33m=\u001b[0m \u001b[0mparams\u001b[0m\u001b[1;33m,\u001b[0m \u001b[0mdtrain\u001b[0m\u001b[1;33m=\u001b[0m\u001b[0mdtr\u001b[0m\u001b[1;33m,\u001b[0m \u001b[0mnum_boost_round\u001b[0m \u001b[1;33m=\u001b[0m \u001b[0mnum_rounds\u001b[0m\u001b[1;33m,\u001b[0m \u001b[0mearly_stopping_rounds\u001b[0m\u001b[1;33m=\u001b[0m\u001b[1;36m100\u001b[0m\u001b[1;33m,\u001b[0m \u001b[0mevals\u001b[0m\u001b[1;33m=\u001b[0m\u001b[0meval_list\u001b[0m\u001b[1;33m)\u001b[0m\u001b[1;33m\u001b[0m\u001b[1;33m\u001b[0m\u001b[0m\n\u001b[0m\u001b[0;32m      9\u001b[0m \u001b[1;31m#                                        훈련             반복회수                    조기 중단:(최소50부터)\u001b[0m\u001b[1;33m\u001b[0m\u001b[1;33m\u001b[0m\u001b[0m\n",
      "\u001b[1;32mC:\\Anaconda3\\lib\\site-packages\\xgboost\\core.py\u001b[0m in \u001b[0;36minner_f\u001b[1;34m(*args, **kwargs)\u001b[0m\n\u001b[0;32m    618\u001b[0m             \u001b[1;32mfor\u001b[0m \u001b[0mk\u001b[0m\u001b[1;33m,\u001b[0m \u001b[0marg\u001b[0m \u001b[1;32min\u001b[0m \u001b[0mzip\u001b[0m\u001b[1;33m(\u001b[0m\u001b[0msig\u001b[0m\u001b[1;33m.\u001b[0m\u001b[0mparameters\u001b[0m\u001b[1;33m,\u001b[0m \u001b[0margs\u001b[0m\u001b[1;33m)\u001b[0m\u001b[1;33m:\u001b[0m\u001b[1;33m\u001b[0m\u001b[1;33m\u001b[0m\u001b[0m\n\u001b[0;32m    619\u001b[0m                 \u001b[0mkwargs\u001b[0m\u001b[1;33m[\u001b[0m\u001b[0mk\u001b[0m\u001b[1;33m]\u001b[0m \u001b[1;33m=\u001b[0m \u001b[0marg\u001b[0m\u001b[1;33m\u001b[0m\u001b[1;33m\u001b[0m\u001b[0m\n\u001b[1;32m--> 620\u001b[1;33m             \u001b[1;32mreturn\u001b[0m \u001b[0mfunc\u001b[0m\u001b[1;33m(\u001b[0m\u001b[1;33m**\u001b[0m\u001b[0mkwargs\u001b[0m\u001b[1;33m)\u001b[0m\u001b[1;33m\u001b[0m\u001b[1;33m\u001b[0m\u001b[0m\n\u001b[0m\u001b[0;32m    621\u001b[0m \u001b[1;33m\u001b[0m\u001b[0m\n\u001b[0;32m    622\u001b[0m         \u001b[1;32mreturn\u001b[0m \u001b[0minner_f\u001b[0m\u001b[1;33m\u001b[0m\u001b[1;33m\u001b[0m\u001b[0m\n",
      "\u001b[1;32mC:\\Anaconda3\\lib\\site-packages\\xgboost\\training.py\u001b[0m in \u001b[0;36mtrain\u001b[1;34m(params, dtrain, num_boost_round, evals, obj, feval, maximize, early_stopping_rounds, evals_result, verbose_eval, xgb_model, callbacks, custom_metric)\u001b[0m\n\u001b[0;32m    178\u001b[0m     )\n\u001b[0;32m    179\u001b[0m \u001b[1;33m\u001b[0m\u001b[0m\n\u001b[1;32m--> 180\u001b[1;33m     \u001b[0mbst\u001b[0m \u001b[1;33m=\u001b[0m \u001b[0mcb_container\u001b[0m\u001b[1;33m.\u001b[0m\u001b[0mbefore_training\u001b[0m\u001b[1;33m(\u001b[0m\u001b[0mbst\u001b[0m\u001b[1;33m)\u001b[0m\u001b[1;33m\u001b[0m\u001b[1;33m\u001b[0m\u001b[0m\n\u001b[0m\u001b[0;32m    181\u001b[0m \u001b[1;33m\u001b[0m\u001b[0m\n\u001b[0;32m    182\u001b[0m     \u001b[1;32mfor\u001b[0m \u001b[0mi\u001b[0m \u001b[1;32min\u001b[0m \u001b[0mrange\u001b[0m\u001b[1;33m(\u001b[0m\u001b[0mstart_iteration\u001b[0m\u001b[1;33m,\u001b[0m \u001b[0mnum_boost_round\u001b[0m\u001b[1;33m)\u001b[0m\u001b[1;33m:\u001b[0m\u001b[1;33m\u001b[0m\u001b[1;33m\u001b[0m\u001b[0m\n",
      "\u001b[1;32mC:\\Anaconda3\\lib\\site-packages\\xgboost\\callback.py\u001b[0m in \u001b[0;36mbefore_training\u001b[1;34m(self, model)\u001b[0m\n\u001b[0;32m    146\u001b[0m         \u001b[1;34m'''Function called before training.'''\u001b[0m\u001b[1;33m\u001b[0m\u001b[1;33m\u001b[0m\u001b[0m\n\u001b[0;32m    147\u001b[0m         \u001b[1;32mfor\u001b[0m \u001b[0mc\u001b[0m \u001b[1;32min\u001b[0m \u001b[0mself\u001b[0m\u001b[1;33m.\u001b[0m\u001b[0mcallbacks\u001b[0m\u001b[1;33m:\u001b[0m\u001b[1;33m\u001b[0m\u001b[1;33m\u001b[0m\u001b[0m\n\u001b[1;32m--> 148\u001b[1;33m             \u001b[0mmodel\u001b[0m \u001b[1;33m=\u001b[0m \u001b[0mc\u001b[0m\u001b[1;33m.\u001b[0m\u001b[0mbefore_training\u001b[0m\u001b[1;33m(\u001b[0m\u001b[0mmodel\u001b[0m\u001b[1;33m=\u001b[0m\u001b[0mmodel\u001b[0m\u001b[1;33m)\u001b[0m\u001b[1;33m\u001b[0m\u001b[1;33m\u001b[0m\u001b[0m\n\u001b[0m\u001b[0;32m    149\u001b[0m             \u001b[0mmsg\u001b[0m \u001b[1;33m=\u001b[0m \u001b[1;34m'before_training should return the model'\u001b[0m\u001b[1;33m\u001b[0m\u001b[1;33m\u001b[0m\u001b[0m\n\u001b[0;32m    150\u001b[0m             \u001b[1;32mif\u001b[0m \u001b[0mself\u001b[0m\u001b[1;33m.\u001b[0m\u001b[0mis_cv\u001b[0m\u001b[1;33m:\u001b[0m\u001b[1;33m\u001b[0m\u001b[1;33m\u001b[0m\u001b[0m\n",
      "\u001b[1;32mC:\\Anaconda3\\lib\\site-packages\\xgboost\\callback.py\u001b[0m in \u001b[0;36mbefore_training\u001b[1;34m(self, model)\u001b[0m\n\u001b[0;32m    348\u001b[0m \u001b[1;33m\u001b[0m\u001b[0m\n\u001b[0;32m    349\u001b[0m     \u001b[1;32mdef\u001b[0m \u001b[0mbefore_training\u001b[0m\u001b[1;33m(\u001b[0m\u001b[0mself\u001b[0m\u001b[1;33m,\u001b[0m \u001b[0mmodel\u001b[0m\u001b[1;33m:\u001b[0m \u001b[0m_Model\u001b[0m\u001b[1;33m)\u001b[0m \u001b[1;33m->\u001b[0m \u001b[0m_Model\u001b[0m\u001b[1;33m:\u001b[0m\u001b[1;33m\u001b[0m\u001b[1;33m\u001b[0m\u001b[0m\n\u001b[1;32m--> 350\u001b[1;33m         \u001b[0mself\u001b[0m\u001b[1;33m.\u001b[0m\u001b[0mstarting_round\u001b[0m \u001b[1;33m=\u001b[0m \u001b[0mmodel\u001b[0m\u001b[1;33m.\u001b[0m\u001b[0mnum_boosted_rounds\u001b[0m\u001b[1;33m(\u001b[0m\u001b[1;33m)\u001b[0m\u001b[1;33m\u001b[0m\u001b[1;33m\u001b[0m\u001b[0m\n\u001b[0m\u001b[0;32m    351\u001b[0m         \u001b[1;32mreturn\u001b[0m \u001b[0mmodel\u001b[0m\u001b[1;33m\u001b[0m\u001b[1;33m\u001b[0m\u001b[0m\n\u001b[0;32m    352\u001b[0m \u001b[1;33m\u001b[0m\u001b[0m\n",
      "\u001b[1;32mC:\\Anaconda3\\lib\\site-packages\\xgboost\\core.py\u001b[0m in \u001b[0;36mnum_boosted_rounds\u001b[1;34m(self)\u001b[0m\n\u001b[0;32m   2464\u001b[0m         \u001b[0mrounds\u001b[0m \u001b[1;33m=\u001b[0m \u001b[0mctypes\u001b[0m\u001b[1;33m.\u001b[0m\u001b[0mc_int\u001b[0m\u001b[1;33m(\u001b[0m\u001b[1;33m)\u001b[0m\u001b[1;33m\u001b[0m\u001b[1;33m\u001b[0m\u001b[0m\n\u001b[0;32m   2465\u001b[0m         \u001b[1;32massert\u001b[0m \u001b[0mself\u001b[0m\u001b[1;33m.\u001b[0m\u001b[0mhandle\u001b[0m \u001b[1;32mis\u001b[0m \u001b[1;32mnot\u001b[0m \u001b[1;32mNone\u001b[0m\u001b[1;33m\u001b[0m\u001b[1;33m\u001b[0m\u001b[0m\n\u001b[1;32m-> 2466\u001b[1;33m         \u001b[0m_check_call\u001b[0m\u001b[1;33m(\u001b[0m\u001b[0m_LIB\u001b[0m\u001b[1;33m.\u001b[0m\u001b[0mXGBoosterBoostedRounds\u001b[0m\u001b[1;33m(\u001b[0m\u001b[0mself\u001b[0m\u001b[1;33m.\u001b[0m\u001b[0mhandle\u001b[0m\u001b[1;33m,\u001b[0m \u001b[0mctypes\u001b[0m\u001b[1;33m.\u001b[0m\u001b[0mbyref\u001b[0m\u001b[1;33m(\u001b[0m\u001b[0mrounds\u001b[0m\u001b[1;33m)\u001b[0m\u001b[1;33m)\u001b[0m\u001b[1;33m)\u001b[0m\u001b[1;33m\u001b[0m\u001b[1;33m\u001b[0m\u001b[0m\n\u001b[0m\u001b[0;32m   2467\u001b[0m         \u001b[1;32mreturn\u001b[0m \u001b[0mrounds\u001b[0m\u001b[1;33m.\u001b[0m\u001b[0mvalue\u001b[0m\u001b[1;33m\u001b[0m\u001b[1;33m\u001b[0m\u001b[0m\n\u001b[0;32m   2468\u001b[0m \u001b[1;33m\u001b[0m\u001b[0m\n",
      "\u001b[1;32mC:\\Anaconda3\\lib\\site-packages\\xgboost\\core.py\u001b[0m in \u001b[0;36m_check_call\u001b[1;34m(ret)\u001b[0m\n\u001b[0;32m    277\u001b[0m     \"\"\"\n\u001b[0;32m    278\u001b[0m     \u001b[1;32mif\u001b[0m \u001b[0mret\u001b[0m \u001b[1;33m!=\u001b[0m \u001b[1;36m0\u001b[0m\u001b[1;33m:\u001b[0m\u001b[1;33m\u001b[0m\u001b[1;33m\u001b[0m\u001b[0m\n\u001b[1;32m--> 279\u001b[1;33m         \u001b[1;32mraise\u001b[0m \u001b[0mXGBoostError\u001b[0m\u001b[1;33m(\u001b[0m\u001b[0mpy_str\u001b[0m\u001b[1;33m(\u001b[0m\u001b[0m_LIB\u001b[0m\u001b[1;33m.\u001b[0m\u001b[0mXGBGetLastError\u001b[0m\u001b[1;33m(\u001b[0m\u001b[1;33m)\u001b[0m\u001b[1;33m)\u001b[0m\u001b[1;33m)\u001b[0m\u001b[1;33m\u001b[0m\u001b[1;33m\u001b[0m\u001b[0m\n\u001b[0m\u001b[0;32m    280\u001b[0m \u001b[1;33m\u001b[0m\u001b[0m\n\u001b[0;32m    281\u001b[0m \u001b[1;33m\u001b[0m\u001b[0m\n",
      "\u001b[1;31mXGBoostError\u001b[0m: Invalid Parameter format for max_depth expect int but value='[3, 4, 5, 6, 7]'"
     ]
    }
   ],
   "source": [
    "# 학습\n",
    "# xgboost 모듈의 train()함수에 파라미터로 전달\n",
    "# 학습 데이터 셋은 'train' 또는 평가 데이터셋은 'eval'로 명가한다\n",
    "\n",
    "eval_list = [(dtr,'train'),(dval,'eval')]\n",
    "\n",
    "# 하이퍼 파라미터와 early stopping 파라미터를 train()함수의 파라미터로 전달\n",
    "xgb_model = xgb.train(params = params, dtrain=dtr, num_boost_round = num_rounds, early_stopping_rounds=100, evals=eval_list)\n",
    "#                                        훈련             반복회수                    조기 중단:(최소50부터)       "
   ]
  },
  {
   "cell_type": "code",
   "execution_count": null,
   "id": "d0f9e50e",
   "metadata": {},
   "outputs": [],
   "source": [
    "xgb_pred = xgb_model.predict(dtest)"
   ]
  },
  {
   "cell_type": "code",
   "execution_count": null,
   "id": "09b90521",
   "metadata": {},
   "outputs": [],
   "source": [
    "preds = [1 if x > 0.5 else 0 for x in xgb_pred]\n",
    "print('예측값 10개만 표시 : ', preds[:10])"
   ]
  },
  {
   "cell_type": "code",
   "execution_count": null,
   "id": "d3ddb605",
   "metadata": {},
   "outputs": [],
   "source": [
    "print('Macro f1 socre : ', f1_score(y_test, preds, average='macro'))"
   ]
  },
  {
   "cell_type": "code",
   "execution_count": null,
   "id": "f8759795",
   "metadata": {},
   "outputs": [],
   "source": []
  },
  {
   "cell_type": "code",
   "execution_count": null,
   "id": "a3e948a1",
   "metadata": {},
   "outputs": [],
   "source": []
  },
  {
   "cell_type": "code",
   "execution_count": null,
   "id": "3093e9e6",
   "metadata": {},
   "outputs": [],
   "source": []
  },
  {
   "cell_type": "code",
   "execution_count": null,
   "id": "72b851c4",
   "metadata": {},
   "outputs": [],
   "source": []
  }
 ],
 "metadata": {
  "kernelspec": {
   "display_name": "Python 3 (ipykernel)",
   "language": "python",
   "name": "python3"
  },
  "language_info": {
   "codemirror_mode": {
    "name": "ipython",
    "version": 3
   },
   "file_extension": ".py",
   "mimetype": "text/x-python",
   "name": "python",
   "nbconvert_exporter": "python",
   "pygments_lexer": "ipython3",
   "version": "3.9.7"
  },
  "toc": {
   "base_numbering": 1,
   "nav_menu": {},
   "number_sections": true,
   "sideBar": true,
   "skip_h1_title": false,
   "title_cell": "Table of Contents",
   "title_sidebar": "Contents",
   "toc_cell": false,
   "toc_position": {
    "height": "calc(100% - 180px)",
    "left": "10px",
    "top": "150px",
    "width": "307.2px"
   },
   "toc_section_display": true,
   "toc_window_display": false
  },
  "varInspector": {
   "cols": {
    "lenName": 16,
    "lenType": 16,
    "lenVar": 40
   },
   "kernels_config": {
    "python": {
     "delete_cmd_postfix": "",
     "delete_cmd_prefix": "del ",
     "library": "var_list.py",
     "varRefreshCmd": "print(var_dic_list())"
    },
    "r": {
     "delete_cmd_postfix": ") ",
     "delete_cmd_prefix": "rm(",
     "library": "var_list.r",
     "varRefreshCmd": "cat(var_dic_list()) "
    }
   },
   "types_to_exclude": [
    "module",
    "function",
    "builtin_function_or_method",
    "instance",
    "_Feature"
   ],
   "window_display": false
  }
 },
 "nbformat": 4,
 "nbformat_minor": 5
}
