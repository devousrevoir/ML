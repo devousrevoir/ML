{
 "cells": [
  {
   "cell_type": "markdown",
   "id": "d09b1990",
   "metadata": {},
   "source": [
    "# 필수 라이브러리 로딩"
   ]
  },
  {
   "cell_type": "code",
   "execution_count": 2,
   "id": "b78fbb09",
   "metadata": {
    "ExecuteTime": {
     "end_time": "2022-11-10T06:56:30.930375Z",
     "start_time": "2022-11-10T06:56:30.922394Z"
    }
   },
   "outputs": [],
   "source": [
    "import numpy as np\n",
    "import pandas as pd\n",
    "\n",
    "from sklearn.impute import SimpleImputer\n",
    "from sklearn.preprocessing import LabelEncoder, OneHotEncoder, Binarizer, KBinsDiscretizer\n",
    "\n",
    "\n",
    "import statsmodels.api as sm;\n",
    "from statsmodels.stats.outliers_influence import variance_inflation_factor\n",
    "from patsy import dmatrix\n",
    "\n",
    "import numpy as np\n",
    "import pandas as pd\n",
    "import matplotlib.pyplot as plt\n",
    "import matplotlib as mpl\n",
    "\n",
    "from sklearn.metrics import f1_score\n",
    "\n",
    "from warnings import filterwarnings\n",
    "import warnings\n",
    "%matplotlib inline\n",
    "%config Inlinebackend.figure_format = 'retina'\n",
    "\n",
    "# 한글 폰트 설정\n",
    "mpl.rc('font', family='malgun gothic')\n",
    "\n",
    "# 시각화 차트에 음수설정\n",
    "mpl.rc('axes', unicode_minus = False)\n",
    "\n",
    "# 오류경고\n",
    "warnings.filterwarnings('ignore')\n",
    "\n",
    "\n",
    "import seaborn as sns\n",
    "\n",
    "# 차트 스타일지정     글꼴                    음수처리                        눈금\n",
    "sns.set(font = 'malgun ghthic', rc={'axes.unicode_minus':False}, style = 'darkgrid')\n",
    "plt.rc('figure', figsize=(10, 8))"
   ]
  },
  {
   "cell_type": "markdown",
   "id": "7570f9de",
   "metadata": {},
   "source": [
    "# 데이터 로딩"
   ]
  },
  {
   "cell_type": "code",
   "execution_count": 6,
   "id": "a0eab2e5",
   "metadata": {
    "ExecuteTime": {
     "end_time": "2022-11-10T06:56:35.531347Z",
     "start_time": "2022-11-10T06:56:35.441445Z"
    },
    "scrolled": true
   },
   "outputs": [
    {
     "ename": "FileNotFoundError",
     "evalue": "[Errno 2] No such file or directory: 'train.csv'",
     "output_type": "error",
     "traceback": [
      "\u001b[1;31m---------------------------------------------------------------------------\u001b[0m",
      "\u001b[1;31mFileNotFoundError\u001b[0m                         Traceback (most recent call last)",
      "\u001b[1;32m~\\AppData\\Local\\Temp/ipykernel_12384/3931031190.py\u001b[0m in \u001b[0;36m<module>\u001b[1;34m\u001b[0m\n\u001b[0;32m      1\u001b[0m \u001b[1;31m# data\u001b[0m\u001b[1;33m\u001b[0m\u001b[1;33m\u001b[0m\u001b[0m\n\u001b[1;32m----> 2\u001b[1;33m \u001b[0mdata\u001b[0m \u001b[1;33m=\u001b[0m \u001b[0mpd\u001b[0m\u001b[1;33m.\u001b[0m\u001b[0mread_csv\u001b[0m\u001b[1;33m(\u001b[0m\u001b[1;34m'train.csv'\u001b[0m\u001b[1;33m)\u001b[0m \u001b[1;31m# index_col = 0\u001b[0m\u001b[1;33m\u001b[0m\u001b[1;33m\u001b[0m\u001b[0m\n\u001b[0m\u001b[0;32m      3\u001b[0m \u001b[1;33m\u001b[0m\u001b[0m\n\u001b[0;32m      4\u001b[0m \u001b[1;31m# target\u001b[0m\u001b[1;33m\u001b[0m\u001b[1;33m\u001b[0m\u001b[0m\n\u001b[0;32m      5\u001b[0m \u001b[0mtarget\u001b[0m \u001b[1;33m=\u001b[0m \u001b[0mdata\u001b[0m\u001b[1;33m.\u001b[0m\u001b[0miloc\u001b[0m\u001b[1;33m[\u001b[0m\u001b[1;33m:\u001b[0m\u001b[1;33m,\u001b[0m \u001b[1;33m-\u001b[0m\u001b[1;36m1\u001b[0m\u001b[1;33m]\u001b[0m\u001b[1;33m.\u001b[0m\u001b[0mto_numpy\u001b[0m\u001b[1;33m(\u001b[0m\u001b[1;33m)\u001b[0m\u001b[1;33m\u001b[0m\u001b[1;33m\u001b[0m\u001b[0m\n",
      "\u001b[1;32mC:\\Anaconda3\\lib\\site-packages\\pandas\\util\\_decorators.py\u001b[0m in \u001b[0;36mwrapper\u001b[1;34m(*args, **kwargs)\u001b[0m\n\u001b[0;32m    309\u001b[0m                     \u001b[0mstacklevel\u001b[0m\u001b[1;33m=\u001b[0m\u001b[0mstacklevel\u001b[0m\u001b[1;33m,\u001b[0m\u001b[1;33m\u001b[0m\u001b[1;33m\u001b[0m\u001b[0m\n\u001b[0;32m    310\u001b[0m                 )\n\u001b[1;32m--> 311\u001b[1;33m             \u001b[1;32mreturn\u001b[0m \u001b[0mfunc\u001b[0m\u001b[1;33m(\u001b[0m\u001b[1;33m*\u001b[0m\u001b[0margs\u001b[0m\u001b[1;33m,\u001b[0m \u001b[1;33m**\u001b[0m\u001b[0mkwargs\u001b[0m\u001b[1;33m)\u001b[0m\u001b[1;33m\u001b[0m\u001b[1;33m\u001b[0m\u001b[0m\n\u001b[0m\u001b[0;32m    312\u001b[0m \u001b[1;33m\u001b[0m\u001b[0m\n\u001b[0;32m    313\u001b[0m         \u001b[1;32mreturn\u001b[0m \u001b[0mwrapper\u001b[0m\u001b[1;33m\u001b[0m\u001b[1;33m\u001b[0m\u001b[0m\n",
      "\u001b[1;32mC:\\Anaconda3\\lib\\site-packages\\pandas\\io\\parsers\\readers.py\u001b[0m in \u001b[0;36mread_csv\u001b[1;34m(filepath_or_buffer, sep, delimiter, header, names, index_col, usecols, squeeze, prefix, mangle_dupe_cols, dtype, engine, converters, true_values, false_values, skipinitialspace, skiprows, skipfooter, nrows, na_values, keep_default_na, na_filter, verbose, skip_blank_lines, parse_dates, infer_datetime_format, keep_date_col, date_parser, dayfirst, cache_dates, iterator, chunksize, compression, thousands, decimal, lineterminator, quotechar, quoting, doublequote, escapechar, comment, encoding, encoding_errors, dialect, error_bad_lines, warn_bad_lines, on_bad_lines, delim_whitespace, low_memory, memory_map, float_precision, storage_options)\u001b[0m\n\u001b[0;32m    584\u001b[0m     \u001b[0mkwds\u001b[0m\u001b[1;33m.\u001b[0m\u001b[0mupdate\u001b[0m\u001b[1;33m(\u001b[0m\u001b[0mkwds_defaults\u001b[0m\u001b[1;33m)\u001b[0m\u001b[1;33m\u001b[0m\u001b[1;33m\u001b[0m\u001b[0m\n\u001b[0;32m    585\u001b[0m \u001b[1;33m\u001b[0m\u001b[0m\n\u001b[1;32m--> 586\u001b[1;33m     \u001b[1;32mreturn\u001b[0m \u001b[0m_read\u001b[0m\u001b[1;33m(\u001b[0m\u001b[0mfilepath_or_buffer\u001b[0m\u001b[1;33m,\u001b[0m \u001b[0mkwds\u001b[0m\u001b[1;33m)\u001b[0m\u001b[1;33m\u001b[0m\u001b[1;33m\u001b[0m\u001b[0m\n\u001b[0m\u001b[0;32m    587\u001b[0m \u001b[1;33m\u001b[0m\u001b[0m\n\u001b[0;32m    588\u001b[0m \u001b[1;33m\u001b[0m\u001b[0m\n",
      "\u001b[1;32mC:\\Anaconda3\\lib\\site-packages\\pandas\\io\\parsers\\readers.py\u001b[0m in \u001b[0;36m_read\u001b[1;34m(filepath_or_buffer, kwds)\u001b[0m\n\u001b[0;32m    480\u001b[0m \u001b[1;33m\u001b[0m\u001b[0m\n\u001b[0;32m    481\u001b[0m     \u001b[1;31m# Create the parser.\u001b[0m\u001b[1;33m\u001b[0m\u001b[1;33m\u001b[0m\u001b[0m\n\u001b[1;32m--> 482\u001b[1;33m     \u001b[0mparser\u001b[0m \u001b[1;33m=\u001b[0m \u001b[0mTextFileReader\u001b[0m\u001b[1;33m(\u001b[0m\u001b[0mfilepath_or_buffer\u001b[0m\u001b[1;33m,\u001b[0m \u001b[1;33m**\u001b[0m\u001b[0mkwds\u001b[0m\u001b[1;33m)\u001b[0m\u001b[1;33m\u001b[0m\u001b[1;33m\u001b[0m\u001b[0m\n\u001b[0m\u001b[0;32m    483\u001b[0m \u001b[1;33m\u001b[0m\u001b[0m\n\u001b[0;32m    484\u001b[0m     \u001b[1;32mif\u001b[0m \u001b[0mchunksize\u001b[0m \u001b[1;32mor\u001b[0m \u001b[0miterator\u001b[0m\u001b[1;33m:\u001b[0m\u001b[1;33m\u001b[0m\u001b[1;33m\u001b[0m\u001b[0m\n",
      "\u001b[1;32mC:\\Anaconda3\\lib\\site-packages\\pandas\\io\\parsers\\readers.py\u001b[0m in \u001b[0;36m__init__\u001b[1;34m(self, f, engine, **kwds)\u001b[0m\n\u001b[0;32m    809\u001b[0m             \u001b[0mself\u001b[0m\u001b[1;33m.\u001b[0m\u001b[0moptions\u001b[0m\u001b[1;33m[\u001b[0m\u001b[1;34m\"has_index_names\"\u001b[0m\u001b[1;33m]\u001b[0m \u001b[1;33m=\u001b[0m \u001b[0mkwds\u001b[0m\u001b[1;33m[\u001b[0m\u001b[1;34m\"has_index_names\"\u001b[0m\u001b[1;33m]\u001b[0m\u001b[1;33m\u001b[0m\u001b[1;33m\u001b[0m\u001b[0m\n\u001b[0;32m    810\u001b[0m \u001b[1;33m\u001b[0m\u001b[0m\n\u001b[1;32m--> 811\u001b[1;33m         \u001b[0mself\u001b[0m\u001b[1;33m.\u001b[0m\u001b[0m_engine\u001b[0m \u001b[1;33m=\u001b[0m \u001b[0mself\u001b[0m\u001b[1;33m.\u001b[0m\u001b[0m_make_engine\u001b[0m\u001b[1;33m(\u001b[0m\u001b[0mself\u001b[0m\u001b[1;33m.\u001b[0m\u001b[0mengine\u001b[0m\u001b[1;33m)\u001b[0m\u001b[1;33m\u001b[0m\u001b[1;33m\u001b[0m\u001b[0m\n\u001b[0m\u001b[0;32m    812\u001b[0m \u001b[1;33m\u001b[0m\u001b[0m\n\u001b[0;32m    813\u001b[0m     \u001b[1;32mdef\u001b[0m \u001b[0mclose\u001b[0m\u001b[1;33m(\u001b[0m\u001b[0mself\u001b[0m\u001b[1;33m)\u001b[0m\u001b[1;33m:\u001b[0m\u001b[1;33m\u001b[0m\u001b[1;33m\u001b[0m\u001b[0m\n",
      "\u001b[1;32mC:\\Anaconda3\\lib\\site-packages\\pandas\\io\\parsers\\readers.py\u001b[0m in \u001b[0;36m_make_engine\u001b[1;34m(self, engine)\u001b[0m\n\u001b[0;32m   1038\u001b[0m             )\n\u001b[0;32m   1039\u001b[0m         \u001b[1;31m# error: Too many arguments for \"ParserBase\"\u001b[0m\u001b[1;33m\u001b[0m\u001b[1;33m\u001b[0m\u001b[0m\n\u001b[1;32m-> 1040\u001b[1;33m         \u001b[1;32mreturn\u001b[0m \u001b[0mmapping\u001b[0m\u001b[1;33m[\u001b[0m\u001b[0mengine\u001b[0m\u001b[1;33m]\u001b[0m\u001b[1;33m(\u001b[0m\u001b[0mself\u001b[0m\u001b[1;33m.\u001b[0m\u001b[0mf\u001b[0m\u001b[1;33m,\u001b[0m \u001b[1;33m**\u001b[0m\u001b[0mself\u001b[0m\u001b[1;33m.\u001b[0m\u001b[0moptions\u001b[0m\u001b[1;33m)\u001b[0m  \u001b[1;31m# type: ignore[call-arg]\u001b[0m\u001b[1;33m\u001b[0m\u001b[1;33m\u001b[0m\u001b[0m\n\u001b[0m\u001b[0;32m   1041\u001b[0m \u001b[1;33m\u001b[0m\u001b[0m\n\u001b[0;32m   1042\u001b[0m     \u001b[1;32mdef\u001b[0m \u001b[0m_failover_to_python\u001b[0m\u001b[1;33m(\u001b[0m\u001b[0mself\u001b[0m\u001b[1;33m)\u001b[0m\u001b[1;33m:\u001b[0m\u001b[1;33m\u001b[0m\u001b[1;33m\u001b[0m\u001b[0m\n",
      "\u001b[1;32mC:\\Anaconda3\\lib\\site-packages\\pandas\\io\\parsers\\c_parser_wrapper.py\u001b[0m in \u001b[0;36m__init__\u001b[1;34m(self, src, **kwds)\u001b[0m\n\u001b[0;32m     49\u001b[0m \u001b[1;33m\u001b[0m\u001b[0m\n\u001b[0;32m     50\u001b[0m         \u001b[1;31m# open handles\u001b[0m\u001b[1;33m\u001b[0m\u001b[1;33m\u001b[0m\u001b[0m\n\u001b[1;32m---> 51\u001b[1;33m         \u001b[0mself\u001b[0m\u001b[1;33m.\u001b[0m\u001b[0m_open_handles\u001b[0m\u001b[1;33m(\u001b[0m\u001b[0msrc\u001b[0m\u001b[1;33m,\u001b[0m \u001b[0mkwds\u001b[0m\u001b[1;33m)\u001b[0m\u001b[1;33m\u001b[0m\u001b[1;33m\u001b[0m\u001b[0m\n\u001b[0m\u001b[0;32m     52\u001b[0m         \u001b[1;32massert\u001b[0m \u001b[0mself\u001b[0m\u001b[1;33m.\u001b[0m\u001b[0mhandles\u001b[0m \u001b[1;32mis\u001b[0m \u001b[1;32mnot\u001b[0m \u001b[1;32mNone\u001b[0m\u001b[1;33m\u001b[0m\u001b[1;33m\u001b[0m\u001b[0m\n\u001b[0;32m     53\u001b[0m \u001b[1;33m\u001b[0m\u001b[0m\n",
      "\u001b[1;32mC:\\Anaconda3\\lib\\site-packages\\pandas\\io\\parsers\\base_parser.py\u001b[0m in \u001b[0;36m_open_handles\u001b[1;34m(self, src, kwds)\u001b[0m\n\u001b[0;32m    220\u001b[0m         \u001b[0mLet\u001b[0m \u001b[0mthe\u001b[0m \u001b[0mreaders\u001b[0m \u001b[0mopen\u001b[0m \u001b[0mIOHandles\u001b[0m \u001b[0mafter\u001b[0m \u001b[0mthey\u001b[0m \u001b[0mare\u001b[0m \u001b[0mdone\u001b[0m \u001b[1;32mwith\u001b[0m \u001b[0mtheir\u001b[0m \u001b[0mpotential\u001b[0m \u001b[0mraises\u001b[0m\u001b[1;33m.\u001b[0m\u001b[1;33m\u001b[0m\u001b[1;33m\u001b[0m\u001b[0m\n\u001b[0;32m    221\u001b[0m         \"\"\"\n\u001b[1;32m--> 222\u001b[1;33m         self.handles = get_handle(\n\u001b[0m\u001b[0;32m    223\u001b[0m             \u001b[0msrc\u001b[0m\u001b[1;33m,\u001b[0m\u001b[1;33m\u001b[0m\u001b[1;33m\u001b[0m\u001b[0m\n\u001b[0;32m    224\u001b[0m             \u001b[1;34m\"r\"\u001b[0m\u001b[1;33m,\u001b[0m\u001b[1;33m\u001b[0m\u001b[1;33m\u001b[0m\u001b[0m\n",
      "\u001b[1;32mC:\\Anaconda3\\lib\\site-packages\\pandas\\io\\common.py\u001b[0m in \u001b[0;36mget_handle\u001b[1;34m(path_or_buf, mode, encoding, compression, memory_map, is_text, errors, storage_options)\u001b[0m\n\u001b[0;32m    700\u001b[0m         \u001b[1;32mif\u001b[0m \u001b[0mioargs\u001b[0m\u001b[1;33m.\u001b[0m\u001b[0mencoding\u001b[0m \u001b[1;32mand\u001b[0m \u001b[1;34m\"b\"\u001b[0m \u001b[1;32mnot\u001b[0m \u001b[1;32min\u001b[0m \u001b[0mioargs\u001b[0m\u001b[1;33m.\u001b[0m\u001b[0mmode\u001b[0m\u001b[1;33m:\u001b[0m\u001b[1;33m\u001b[0m\u001b[1;33m\u001b[0m\u001b[0m\n\u001b[0;32m    701\u001b[0m             \u001b[1;31m# Encoding\u001b[0m\u001b[1;33m\u001b[0m\u001b[1;33m\u001b[0m\u001b[0m\n\u001b[1;32m--> 702\u001b[1;33m             handle = open(\n\u001b[0m\u001b[0;32m    703\u001b[0m                 \u001b[0mhandle\u001b[0m\u001b[1;33m,\u001b[0m\u001b[1;33m\u001b[0m\u001b[1;33m\u001b[0m\u001b[0m\n\u001b[0;32m    704\u001b[0m                 \u001b[0mioargs\u001b[0m\u001b[1;33m.\u001b[0m\u001b[0mmode\u001b[0m\u001b[1;33m,\u001b[0m\u001b[1;33m\u001b[0m\u001b[1;33m\u001b[0m\u001b[0m\n",
      "\u001b[1;31mFileNotFoundError\u001b[0m: [Errno 2] No such file or directory: 'train.csv'"
     ]
    }
   ],
   "source": [
    "# data\n",
    "data = pd.read_csv('train.csv') # index_col = 0\n",
    "\n",
    "# target\n",
    "target = data.iloc[:, -1].to_numpy()\n",
    "\n",
    "# test\n",
    "test = pd.read_csv('test.csv')   # index_col = 0"
   ]
  },
  {
   "cell_type": "markdown",
   "id": "8f15748b",
   "metadata": {},
   "source": [
    "# 데이터 탐색"
   ]
  },
  {
   "cell_type": "code",
   "execution_count": null,
   "id": "51559e56",
   "metadata": {},
   "outputs": [],
   "source": [
    "# data\n",
    "data[\"YEAR\"].value_counts(0)"
   ]
  },
  {
   "cell_type": "code",
   "execution_count": null,
   "id": "80afdf5e",
   "metadata": {
    "ExecuteTime": {
     "end_time": "2022-11-10T08:37:18.281221Z",
     "start_time": "2022-11-10T08:37:18.259266Z"
    }
   },
   "outputs": [],
   "source": [
    "# 결측값 확인\n",
    "data.isna().sum()"
   ]
  },
  {
   "cell_type": "code",
   "execution_count": null,
   "id": "71daab4b",
   "metadata": {},
   "outputs": [],
   "source": [
    "# 상관 계수\n",
    "# data.corrwith(data[:,-1])"
   ]
  },
  {
   "cell_type": "code",
   "execution_count": 4,
   "id": "bec52a03",
   "metadata": {},
   "outputs": [
    {
     "ename": "NameError",
     "evalue": "name 'target' is not defined",
     "output_type": "error",
     "traceback": [
      "\u001b[1;31m---------------------------------------------------------------------------\u001b[0m",
      "\u001b[1;31mNameError\u001b[0m                                 Traceback (most recent call last)",
      "\u001b[1;32m~\\AppData\\Local\\Temp/ipykernel_12384/792833188.py\u001b[0m in \u001b[0;36m<module>\u001b[1;34m\u001b[0m\n\u001b[1;32m----> 1\u001b[1;33m \u001b[0mpd\u001b[0m\u001b[1;33m.\u001b[0m\u001b[0mDataFrame\u001b[0m\u001b[1;33m(\u001b[0m\u001b[0mtarget\u001b[0m\u001b[1;33m)\u001b[0m\u001b[1;33m.\u001b[0m\u001b[0mvalue_counts\u001b[0m\u001b[1;33m(\u001b[0m\u001b[1;33m)\u001b[0m\u001b[1;33m\u001b[0m\u001b[1;33m\u001b[0m\u001b[0m\n\u001b[0m",
      "\u001b[1;31mNameError\u001b[0m: name 'target' is not defined"
     ]
    }
   ],
   "source": [
    "pd.DataFrame(target).value_counts()"
   ]
  },
  {
   "cell_type": "markdown",
   "id": "a44fe6cf",
   "metadata": {},
   "source": [
    "# 데이터 전처리 数据预处理"
   ]
  },
  {
   "cell_type": "markdown",
   "id": "4fc1ce0a",
   "metadata": {},
   "source": [
    "## OnehotEncoding"
   ]
  },
  {
   "cell_type": "code",
   "execution_count": 5,
   "id": "a40c4a65",
   "metadata": {},
   "outputs": [
    {
     "ename": "NameError",
     "evalue": "name 'data' is not defined",
     "output_type": "error",
     "traceback": [
      "\u001b[1;31m---------------------------------------------------------------------------\u001b[0m",
      "\u001b[1;31mNameError\u001b[0m                                 Traceback (most recent call last)",
      "\u001b[1;32m~\\AppData\\Local\\Temp/ipykernel_12384/2869205462.py\u001b[0m in \u001b[0;36m<module>\u001b[1;34m\u001b[0m\n\u001b[1;32m----> 1\u001b[1;33m \u001b[0mdata2\u001b[0m \u001b[1;33m=\u001b[0m \u001b[0mdata\u001b[0m\u001b[1;33m.\u001b[0m\u001b[0miloc\u001b[0m\u001b[1;33m[\u001b[0m\u001b[1;33m:\u001b[0m\u001b[1;33m,\u001b[0m \u001b[1;36m1\u001b[0m\u001b[1;33m]\u001b[0m\u001b[1;33m.\u001b[0m\u001b[0mcopy\u001b[0m\u001b[1;33m(\u001b[0m\u001b[1;33m)\u001b[0m\u001b[1;33m\u001b[0m\u001b[1;33m\u001b[0m\u001b[0m\n\u001b[0m",
      "\u001b[1;31mNameError\u001b[0m: name 'data' is not defined"
     ]
    }
   ],
   "source": [
    "data2 = data.iloc[:, 1].copy()"
   ]
  },
  {
   "cell_type": "code",
   "execution_count": 8,
   "id": "0ee534d6",
   "metadata": {},
   "outputs": [
    {
     "data": {
      "text/plain": [
       "COMPONENT3    7050\n",
       "COMPONENT1    3890\n",
       "COMPONENT2    2316\n",
       "COMPONENT4     839\n",
       "Name: COMPONENT_ARBITRARY, dtype: int64"
      ]
     },
     "execution_count": 8,
     "metadata": {},
     "output_type": "execute_result"
    }
   ],
   "source": [
    "data2.value_counts()"
   ]
  },
  {
   "cell_type": "code",
   "execution_count": 9,
   "id": "5c42afa1",
   "metadata": {},
   "outputs": [
    {
     "data": {
      "text/plain": [
       "array([[0., 0., 1., 0.],\n",
       "       [0., 1., 0., 0.],\n",
       "       [0., 1., 0., 0.],\n",
       "       ...,\n",
       "       [0., 0., 1., 0.],\n",
       "       [0., 1., 0., 0.],\n",
       "       [0., 1., 0., 0.]])"
      ]
     },
     "execution_count": 9,
     "metadata": {},
     "output_type": "execute_result"
    }
   ],
   "source": [
    "# OneHotEncoder\n",
    "\n",
    "x = data2.to_numpy()\n",
    "x= x.reshape(-1, 1)\n",
    "\n",
    "ohe = OneHotEncoder()\n",
    "result = ohe.fit_transform(x).toarray()\n",
    "\n",
    "name = ohe.get_feature_names()\n",
    "result"
   ]
  },
  {
   "cell_type": "code",
   "execution_count": 10,
   "id": "d0029178",
   "metadata": {},
   "outputs": [
    {
     "data": {
      "text/plain": [
       "array(['x0_COMPONENT1', 'x0_COMPONENT2', 'x0_COMPONENT3', 'x0_COMPONENT4'],\n",
       "      dtype=object)"
      ]
     },
     "execution_count": 10,
     "metadata": {},
     "output_type": "execute_result"
    }
   ],
   "source": [
    "name"
   ]
  },
  {
   "cell_type": "code",
   "execution_count": 11,
   "id": "dd368efc",
   "metadata": {},
   "outputs": [
    {
     "data": {
      "text/html": [
       "<div>\n",
       "<style scoped>\n",
       "    .dataframe tbody tr th:only-of-type {\n",
       "        vertical-align: middle;\n",
       "    }\n",
       "\n",
       "    .dataframe tbody tr th {\n",
       "        vertical-align: top;\n",
       "    }\n",
       "\n",
       "    .dataframe thead th {\n",
       "        text-align: right;\n",
       "    }\n",
       "</style>\n",
       "<table border=\"1\" class=\"dataframe\">\n",
       "  <thead>\n",
       "    <tr style=\"text-align: right;\">\n",
       "      <th></th>\n",
       "      <th>x0_COMPONENT1</th>\n",
       "      <th>x0_COMPONENT2</th>\n",
       "      <th>x0_COMPONENT3</th>\n",
       "      <th>x0_COMPONENT4</th>\n",
       "    </tr>\n",
       "  </thead>\n",
       "  <tbody>\n",
       "    <tr>\n",
       "      <th>0</th>\n",
       "      <td>0.0</td>\n",
       "      <td>0.0</td>\n",
       "      <td>1.0</td>\n",
       "      <td>0.0</td>\n",
       "    </tr>\n",
       "    <tr>\n",
       "      <th>1</th>\n",
       "      <td>0.0</td>\n",
       "      <td>1.0</td>\n",
       "      <td>0.0</td>\n",
       "      <td>0.0</td>\n",
       "    </tr>\n",
       "    <tr>\n",
       "      <th>2</th>\n",
       "      <td>0.0</td>\n",
       "      <td>1.0</td>\n",
       "      <td>0.0</td>\n",
       "      <td>0.0</td>\n",
       "    </tr>\n",
       "    <tr>\n",
       "      <th>3</th>\n",
       "      <td>0.0</td>\n",
       "      <td>0.0</td>\n",
       "      <td>1.0</td>\n",
       "      <td>0.0</td>\n",
       "    </tr>\n",
       "    <tr>\n",
       "      <th>4</th>\n",
       "      <td>0.0</td>\n",
       "      <td>0.0</td>\n",
       "      <td>1.0</td>\n",
       "      <td>0.0</td>\n",
       "    </tr>\n",
       "  </tbody>\n",
       "</table>\n",
       "</div>"
      ],
      "text/plain": [
       "   x0_COMPONENT1  x0_COMPONENT2  x0_COMPONENT3  x0_COMPONENT4\n",
       "0            0.0            0.0            1.0            0.0\n",
       "1            0.0            1.0            0.0            0.0\n",
       "2            0.0            1.0            0.0            0.0\n",
       "3            0.0            0.0            1.0            0.0\n",
       "4            0.0            0.0            1.0            0.0"
      ]
     },
     "execution_count": 11,
     "metadata": {},
     "output_type": "execute_result"
    }
   ],
   "source": [
    "# 합치기 준비\n",
    "ohe_df = pd.DataFrame(result, columns = name)\n",
    "ohe_df.head()"
   ]
  },
  {
   "cell_type": "markdown",
   "id": "afbedfb0",
   "metadata": {},
   "source": [
    "## StandardScaler"
   ]
  },
  {
   "cell_type": "code",
   "execution_count": 12,
   "id": "e2fa8f8c",
   "metadata": {},
   "outputs": [
    {
     "data": {
      "text/plain": [
       "ANONYMOUS_2    0\n",
       "AG             0\n",
       "CO             0\n",
       "CR             0\n",
       "CU             0\n",
       "FE             0\n",
       "H2O            0\n",
       "MN             0\n",
       "MO             0\n",
       "NI             0\n",
       "PQINDEX        0\n",
       "TI             0\n",
       "V              0\n",
       "V40            0\n",
       "ZN             0\n",
       "dtype: int64"
      ]
     },
     "execution_count": 12,
     "metadata": {},
     "output_type": "execute_result"
    }
   ],
   "source": [
    "test_stage_features = ['ANONYMOUS_2', 'AG', 'CO', 'CR', 'CU', 'FE', 'H2O', \n",
    "                       'MN', 'MO', 'NI', 'PQINDEX', 'TI', 'V', 'V40', 'ZN']\n",
    "\n",
    "data = data[test_stage_features]\n",
    "\n",
    "# 'COMPONENT_ARBITRARY', 'ANONYMOUS_1'\n",
    "data.isna().sum()"
   ]
  },
  {
   "cell_type": "code",
   "execution_count": 13,
   "id": "bc1c7e8f",
   "metadata": {},
   "outputs": [],
   "source": [
    "from sklearn.preprocessing import StandardScaler\n",
    "\n",
    "ss = StandardScaler()\n",
    "scaled = ss.fit_transform(data)"
   ]
  },
  {
   "cell_type": "code",
   "execution_count": 14,
   "id": "8be7dffe",
   "metadata": {},
   "outputs": [
    {
     "data": {
      "text/plain": [
       "array([[-0.3407601 , -0.15021362, -0.08963275, ..., -0.1065502 ,\n",
       "         0.89989172, -0.96600175],\n",
       "       [-0.0225763 , -0.15021362, -0.08963275, ..., -0.1065502 ,\n",
       "        -1.31737552,  0.11914661],\n",
       "       [-0.3407601 , -0.15021362, -0.08963275, ..., -0.1065502 ,\n",
       "        -0.74088603, -0.33221493],\n",
       "       ...,\n",
       "       [ 0.29560751, -0.15021362, -0.08963275, ..., -0.1065502 ,\n",
       "        -1.11580577,  1.33970343],\n",
       "       [ 0.29560751, -0.15021362, -0.08963275, ..., -0.1065502 ,\n",
       "        -1.31132842,  0.11914661],\n",
       "       [-0.3407601 , -0.15021362, -0.08963275, ..., -0.1065502 ,\n",
       "        -1.25690459,  0.04391969]])"
      ]
     },
     "execution_count": 14,
     "metadata": {},
     "output_type": "execute_result"
    }
   ],
   "source": [
    "scaled"
   ]
  },
  {
   "cell_type": "code",
   "execution_count": 15,
   "id": "56fe0bd0",
   "metadata": {},
   "outputs": [],
   "source": [
    "data_df = pd.DataFrame(scaled, columns = test_stage_features)"
   ]
  },
  {
   "cell_type": "code",
   "execution_count": 16,
   "id": "daf4e0f4",
   "metadata": {},
   "outputs": [
    {
     "data": {
      "text/html": [
       "<div>\n",
       "<style scoped>\n",
       "    .dataframe tbody tr th:only-of-type {\n",
       "        vertical-align: middle;\n",
       "    }\n",
       "\n",
       "    .dataframe tbody tr th {\n",
       "        vertical-align: top;\n",
       "    }\n",
       "\n",
       "    .dataframe thead th {\n",
       "        text-align: right;\n",
       "    }\n",
       "</style>\n",
       "<table border=\"1\" class=\"dataframe\">\n",
       "  <thead>\n",
       "    <tr style=\"text-align: right;\">\n",
       "      <th></th>\n",
       "      <th>ANONYMOUS_2</th>\n",
       "      <th>AG</th>\n",
       "      <th>CO</th>\n",
       "      <th>CR</th>\n",
       "      <th>CU</th>\n",
       "      <th>FE</th>\n",
       "      <th>H2O</th>\n",
       "      <th>MN</th>\n",
       "      <th>MO</th>\n",
       "      <th>NI</th>\n",
       "      <th>PQINDEX</th>\n",
       "      <th>TI</th>\n",
       "      <th>V</th>\n",
       "      <th>V40</th>\n",
       "      <th>ZN</th>\n",
       "    </tr>\n",
       "  </thead>\n",
       "  <tbody>\n",
       "    <tr>\n",
       "      <th>0</th>\n",
       "      <td>-0.340760</td>\n",
       "      <td>-0.150214</td>\n",
       "      <td>-0.089633</td>\n",
       "      <td>0.339245</td>\n",
       "      <td>0.336858</td>\n",
       "      <td>1.331290</td>\n",
       "      <td>-0.041588</td>\n",
       "      <td>1.186914</td>\n",
       "      <td>-0.384284</td>\n",
       "      <td>1.384414</td>\n",
       "      <td>5.293270</td>\n",
       "      <td>0.622282</td>\n",
       "      <td>-0.10655</td>\n",
       "      <td>0.899892</td>\n",
       "      <td>-0.966002</td>\n",
       "    </tr>\n",
       "    <tr>\n",
       "      <th>1</th>\n",
       "      <td>-0.022576</td>\n",
       "      <td>-0.150214</td>\n",
       "      <td>-0.089633</td>\n",
       "      <td>-0.115388</td>\n",
       "      <td>-0.027612</td>\n",
       "      <td>-0.330406</td>\n",
       "      <td>-0.041588</td>\n",
       "      <td>-0.250456</td>\n",
       "      <td>-0.400998</td>\n",
       "      <td>-0.191804</td>\n",
       "      <td>-0.259244</td>\n",
       "      <td>-0.102635</td>\n",
       "      <td>-0.10655</td>\n",
       "      <td>-1.317376</td>\n",
       "      <td>0.119147</td>\n",
       "    </tr>\n",
       "    <tr>\n",
       "      <th>2</th>\n",
       "      <td>-0.340760</td>\n",
       "      <td>-0.150214</td>\n",
       "      <td>-0.089633</td>\n",
       "      <td>-0.080416</td>\n",
       "      <td>-0.252497</td>\n",
       "      <td>-0.326655</td>\n",
       "      <td>-0.041588</td>\n",
       "      <td>-0.250456</td>\n",
       "      <td>-0.400998</td>\n",
       "      <td>-0.191804</td>\n",
       "      <td>-0.260552</td>\n",
       "      <td>-0.102635</td>\n",
       "      <td>-0.10655</td>\n",
       "      <td>-0.740886</td>\n",
       "      <td>-0.332215</td>\n",
       "    </tr>\n",
       "    <tr>\n",
       "      <th>3</th>\n",
       "      <td>-0.340760</td>\n",
       "      <td>-0.150214</td>\n",
       "      <td>-0.089633</td>\n",
       "      <td>-0.115388</td>\n",
       "      <td>-0.260252</td>\n",
       "      <td>-0.264764</td>\n",
       "      <td>-0.041588</td>\n",
       "      <td>-0.160621</td>\n",
       "      <td>-0.400998</td>\n",
       "      <td>-0.191804</td>\n",
       "      <td>-0.242884</td>\n",
       "      <td>-0.102635</td>\n",
       "      <td>-0.10655</td>\n",
       "      <td>0.482642</td>\n",
       "      <td>-1.093888</td>\n",
       "    </tr>\n",
       "    <tr>\n",
       "      <th>4</th>\n",
       "      <td>-0.340760</td>\n",
       "      <td>-0.150214</td>\n",
       "      <td>-0.089633</td>\n",
       "      <td>-0.115388</td>\n",
       "      <td>-0.268007</td>\n",
       "      <td>-0.200996</td>\n",
       "      <td>-0.041588</td>\n",
       "      <td>-0.250456</td>\n",
       "      <td>-0.400998</td>\n",
       "      <td>-0.191804</td>\n",
       "      <td>-0.129674</td>\n",
       "      <td>-0.102635</td>\n",
       "      <td>-0.10655</td>\n",
       "      <td>0.478611</td>\n",
       "      <td>-0.866326</td>\n",
       "    </tr>\n",
       "  </tbody>\n",
       "</table>\n",
       "</div>"
      ],
      "text/plain": [
       "   ANONYMOUS_2        AG        CO        CR        CU        FE       H2O  \\\n",
       "0    -0.340760 -0.150214 -0.089633  0.339245  0.336858  1.331290 -0.041588   \n",
       "1    -0.022576 -0.150214 -0.089633 -0.115388 -0.027612 -0.330406 -0.041588   \n",
       "2    -0.340760 -0.150214 -0.089633 -0.080416 -0.252497 -0.326655 -0.041588   \n",
       "3    -0.340760 -0.150214 -0.089633 -0.115388 -0.260252 -0.264764 -0.041588   \n",
       "4    -0.340760 -0.150214 -0.089633 -0.115388 -0.268007 -0.200996 -0.041588   \n",
       "\n",
       "         MN        MO        NI   PQINDEX        TI        V       V40  \\\n",
       "0  1.186914 -0.384284  1.384414  5.293270  0.622282 -0.10655  0.899892   \n",
       "1 -0.250456 -0.400998 -0.191804 -0.259244 -0.102635 -0.10655 -1.317376   \n",
       "2 -0.250456 -0.400998 -0.191804 -0.260552 -0.102635 -0.10655 -0.740886   \n",
       "3 -0.160621 -0.400998 -0.191804 -0.242884 -0.102635 -0.10655  0.482642   \n",
       "4 -0.250456 -0.400998 -0.191804 -0.129674 -0.102635 -0.10655  0.478611   \n",
       "\n",
       "         ZN  \n",
       "0 -0.966002  \n",
       "1  0.119147  \n",
       "2 -0.332215  \n",
       "3 -1.093888  \n",
       "4 -0.866326  "
      ]
     },
     "execution_count": 16,
     "metadata": {},
     "output_type": "execute_result"
    }
   ],
   "source": [
    "data_df.head()"
   ]
  },
  {
   "cell_type": "markdown",
   "id": "f1db07d1",
   "metadata": {},
   "source": [
    "## Scaled Data 합치기"
   ]
  },
  {
   "cell_type": "code",
   "execution_count": 17,
   "id": "7ee34b7f",
   "metadata": {},
   "outputs": [],
   "source": [
    "# 합치기\n",
    "data = pd.concat([ohe_df, data_df], axis=1)"
   ]
  },
  {
   "cell_type": "code",
   "execution_count": 18,
   "id": "86f094f8",
   "metadata": {},
   "outputs": [],
   "source": [
    "data['label'] = target"
   ]
  },
  {
   "cell_type": "code",
   "execution_count": 19,
   "id": "465f7144",
   "metadata": {},
   "outputs": [
    {
     "data": {
      "text/html": [
       "<div>\n",
       "<style scoped>\n",
       "    .dataframe tbody tr th:only-of-type {\n",
       "        vertical-align: middle;\n",
       "    }\n",
       "\n",
       "    .dataframe tbody tr th {\n",
       "        vertical-align: top;\n",
       "    }\n",
       "\n",
       "    .dataframe thead th {\n",
       "        text-align: right;\n",
       "    }\n",
       "</style>\n",
       "<table border=\"1\" class=\"dataframe\">\n",
       "  <thead>\n",
       "    <tr style=\"text-align: right;\">\n",
       "      <th></th>\n",
       "      <th>x0_COMPONENT1</th>\n",
       "      <th>x0_COMPONENT2</th>\n",
       "      <th>x0_COMPONENT3</th>\n",
       "      <th>x0_COMPONENT4</th>\n",
       "      <th>ANONYMOUS_2</th>\n",
       "      <th>AG</th>\n",
       "      <th>CO</th>\n",
       "      <th>CR</th>\n",
       "      <th>CU</th>\n",
       "      <th>FE</th>\n",
       "      <th>H2O</th>\n",
       "      <th>MN</th>\n",
       "      <th>MO</th>\n",
       "      <th>NI</th>\n",
       "      <th>PQINDEX</th>\n",
       "      <th>TI</th>\n",
       "      <th>V</th>\n",
       "      <th>V40</th>\n",
       "      <th>ZN</th>\n",
       "      <th>label</th>\n",
       "    </tr>\n",
       "  </thead>\n",
       "  <tbody>\n",
       "    <tr>\n",
       "      <th>0</th>\n",
       "      <td>0.0</td>\n",
       "      <td>0.0</td>\n",
       "      <td>1.0</td>\n",
       "      <td>0.0</td>\n",
       "      <td>-0.340760</td>\n",
       "      <td>-0.150214</td>\n",
       "      <td>-0.089633</td>\n",
       "      <td>0.339245</td>\n",
       "      <td>0.336858</td>\n",
       "      <td>1.331290</td>\n",
       "      <td>-0.041588</td>\n",
       "      <td>1.186914</td>\n",
       "      <td>-0.384284</td>\n",
       "      <td>1.384414</td>\n",
       "      <td>5.293270</td>\n",
       "      <td>0.622282</td>\n",
       "      <td>-0.10655</td>\n",
       "      <td>0.899892</td>\n",
       "      <td>-0.966002</td>\n",
       "      <td>0</td>\n",
       "    </tr>\n",
       "    <tr>\n",
       "      <th>1</th>\n",
       "      <td>0.0</td>\n",
       "      <td>1.0</td>\n",
       "      <td>0.0</td>\n",
       "      <td>0.0</td>\n",
       "      <td>-0.022576</td>\n",
       "      <td>-0.150214</td>\n",
       "      <td>-0.089633</td>\n",
       "      <td>-0.115388</td>\n",
       "      <td>-0.027612</td>\n",
       "      <td>-0.330406</td>\n",
       "      <td>-0.041588</td>\n",
       "      <td>-0.250456</td>\n",
       "      <td>-0.400998</td>\n",
       "      <td>-0.191804</td>\n",
       "      <td>-0.259244</td>\n",
       "      <td>-0.102635</td>\n",
       "      <td>-0.10655</td>\n",
       "      <td>-1.317376</td>\n",
       "      <td>0.119147</td>\n",
       "      <td>0</td>\n",
       "    </tr>\n",
       "    <tr>\n",
       "      <th>2</th>\n",
       "      <td>0.0</td>\n",
       "      <td>1.0</td>\n",
       "      <td>0.0</td>\n",
       "      <td>0.0</td>\n",
       "      <td>-0.340760</td>\n",
       "      <td>-0.150214</td>\n",
       "      <td>-0.089633</td>\n",
       "      <td>-0.080416</td>\n",
       "      <td>-0.252497</td>\n",
       "      <td>-0.326655</td>\n",
       "      <td>-0.041588</td>\n",
       "      <td>-0.250456</td>\n",
       "      <td>-0.400998</td>\n",
       "      <td>-0.191804</td>\n",
       "      <td>-0.260552</td>\n",
       "      <td>-0.102635</td>\n",
       "      <td>-0.10655</td>\n",
       "      <td>-0.740886</td>\n",
       "      <td>-0.332215</td>\n",
       "      <td>1</td>\n",
       "    </tr>\n",
       "    <tr>\n",
       "      <th>3</th>\n",
       "      <td>0.0</td>\n",
       "      <td>0.0</td>\n",
       "      <td>1.0</td>\n",
       "      <td>0.0</td>\n",
       "      <td>-0.340760</td>\n",
       "      <td>-0.150214</td>\n",
       "      <td>-0.089633</td>\n",
       "      <td>-0.115388</td>\n",
       "      <td>-0.260252</td>\n",
       "      <td>-0.264764</td>\n",
       "      <td>-0.041588</td>\n",
       "      <td>-0.160621</td>\n",
       "      <td>-0.400998</td>\n",
       "      <td>-0.191804</td>\n",
       "      <td>-0.242884</td>\n",
       "      <td>-0.102635</td>\n",
       "      <td>-0.10655</td>\n",
       "      <td>0.482642</td>\n",
       "      <td>-1.093888</td>\n",
       "      <td>0</td>\n",
       "    </tr>\n",
       "    <tr>\n",
       "      <th>4</th>\n",
       "      <td>0.0</td>\n",
       "      <td>0.0</td>\n",
       "      <td>1.0</td>\n",
       "      <td>0.0</td>\n",
       "      <td>-0.340760</td>\n",
       "      <td>-0.150214</td>\n",
       "      <td>-0.089633</td>\n",
       "      <td>-0.115388</td>\n",
       "      <td>-0.268007</td>\n",
       "      <td>-0.200996</td>\n",
       "      <td>-0.041588</td>\n",
       "      <td>-0.250456</td>\n",
       "      <td>-0.400998</td>\n",
       "      <td>-0.191804</td>\n",
       "      <td>-0.129674</td>\n",
       "      <td>-0.102635</td>\n",
       "      <td>-0.10655</td>\n",
       "      <td>0.478611</td>\n",
       "      <td>-0.866326</td>\n",
       "      <td>0</td>\n",
       "    </tr>\n",
       "  </tbody>\n",
       "</table>\n",
       "</div>"
      ],
      "text/plain": [
       "   x0_COMPONENT1  x0_COMPONENT2  x0_COMPONENT3  x0_COMPONENT4  ANONYMOUS_2  \\\n",
       "0            0.0            0.0            1.0            0.0    -0.340760   \n",
       "1            0.0            1.0            0.0            0.0    -0.022576   \n",
       "2            0.0            1.0            0.0            0.0    -0.340760   \n",
       "3            0.0            0.0            1.0            0.0    -0.340760   \n",
       "4            0.0            0.0            1.0            0.0    -0.340760   \n",
       "\n",
       "         AG        CO        CR        CU        FE       H2O        MN  \\\n",
       "0 -0.150214 -0.089633  0.339245  0.336858  1.331290 -0.041588  1.186914   \n",
       "1 -0.150214 -0.089633 -0.115388 -0.027612 -0.330406 -0.041588 -0.250456   \n",
       "2 -0.150214 -0.089633 -0.080416 -0.252497 -0.326655 -0.041588 -0.250456   \n",
       "3 -0.150214 -0.089633 -0.115388 -0.260252 -0.264764 -0.041588 -0.160621   \n",
       "4 -0.150214 -0.089633 -0.115388 -0.268007 -0.200996 -0.041588 -0.250456   \n",
       "\n",
       "         MO        NI   PQINDEX        TI        V       V40        ZN  label  \n",
       "0 -0.384284  1.384414  5.293270  0.622282 -0.10655  0.899892 -0.966002      0  \n",
       "1 -0.400998 -0.191804 -0.259244 -0.102635 -0.10655 -1.317376  0.119147      0  \n",
       "2 -0.400998 -0.191804 -0.260552 -0.102635 -0.10655 -0.740886 -0.332215      1  \n",
       "3 -0.400998 -0.191804 -0.242884 -0.102635 -0.10655  0.482642 -1.093888      0  \n",
       "4 -0.400998 -0.191804 -0.129674 -0.102635 -0.10655  0.478611 -0.866326      0  "
      ]
     },
     "execution_count": 19,
     "metadata": {},
     "output_type": "execute_result"
    }
   ],
   "source": [
    "data.head()"
   ]
  },
  {
   "cell_type": "markdown",
   "id": "73b6082b",
   "metadata": {},
   "source": [
    "## 이상치 처리"
   ]
  },
  {
   "cell_type": "code",
   "execution_count": 20,
   "id": "84123263",
   "metadata": {},
   "outputs": [
    {
     "name": "stderr",
     "output_type": "stream",
     "text": [
      "findfont: Font family ['malgun ghthic'] not found. Falling back to DejaVu Sans.\n"
     ]
    },
    {
     "data": {
      "image/png": "[encoded data removed]",
      "text/plain": [
       "<Figure size 720x576 with 1 Axes>"
      ]
     },
     "metadata": {},
     "output_type": "display_data"
    }
   ],
   "source": [
    "plt.boxplot(data.iloc[:, :-1])\n",
    "plt.show()"
   ]
  },
  {
   "cell_type": "code",
   "execution_count": 21,
   "id": "753a686c",
   "metadata": {
    "ExecuteTime": {
     "end_time": "2022-11-09T09:02:53.318466Z",
     "start_time": "2022-11-09T09:02:53.303508Z"
    }
   },
   "outputs": [
    {
     "data": {
      "text/plain": [
       "<AxesSubplot:>"
      ]
     },
     "execution_count": 21,
     "metadata": {},
     "output_type": "execute_result"
    },
    {
     "data": {
      "image/png": "[encoded data removed]",
      "text/plain": [
       "<Figure size 720x576 with 1 Axes>"
      ]
     },
     "metadata": {},
     "output_type": "display_data"
    }
   ],
   "source": [
    "sns.boxplot(data=data, dodge=False)"
   ]
  },
  {
   "cell_type": "markdown",
   "id": "c11efba3",
   "metadata": {},
   "source": [
    "# 데이터 분리"
   ]
  },
  {
   "cell_type": "code",
   "execution_count": 22,
   "id": "05fb761d",
   "metadata": {},
   "outputs": [],
   "source": [
    "data = data.iloc[:, :-1].to_numpy()"
   ]
  },
  {
   "cell_type": "code",
   "execution_count": 23,
   "id": "8f4f2732",
   "metadata": {},
   "outputs": [
    {
     "data": {
      "text/plain": [
       "array([[ 0.        ,  0.        ,  1.        , ..., -0.1065502 ,\n",
       "         0.89989172, -0.96600175],\n",
       "       [ 0.        ,  1.        ,  0.        , ..., -0.1065502 ,\n",
       "        -1.31737552,  0.11914661],\n",
       "       [ 0.        ,  1.        ,  0.        , ..., -0.1065502 ,\n",
       "        -0.74088603, -0.33221493],\n",
       "       ...,\n",
       "       [ 0.        ,  0.        ,  1.        , ..., -0.1065502 ,\n",
       "        -1.11580577,  1.33970343],\n",
       "       [ 0.        ,  1.        ,  0.        , ..., -0.1065502 ,\n",
       "        -1.31132842,  0.11914661],\n",
       "       [ 0.        ,  1.        ,  0.        , ..., -0.1065502 ,\n",
       "        -1.25690459,  0.04391969]])"
      ]
     },
     "execution_count": 23,
     "metadata": {},
     "output_type": "execute_result"
    }
   ],
   "source": [
    "data"
   ]
  },
  {
   "cell_type": "code",
   "execution_count": 24,
   "id": "97caefc6",
   "metadata": {},
   "outputs": [],
   "source": [
    "from sklearn.model_selection import train_test_split\n",
    "X_train, X_test, y_train, y_test = train_test_split(data, target,\n",
    "                                                   test_size=0.2, random_state=2022)"
   ]
  },
  {
   "cell_type": "code",
   "execution_count": null,
   "id": "2e1d4191",
   "metadata": {},
   "outputs": [],
   "source": []
  },
  {
   "cell_type": "markdown",
   "id": "f4bffc15",
   "metadata": {},
   "source": [
    "# 분류\n",
    " - 로지스틱 회귀나 분류 알고리즘 이용하여 모델 생성\n",
    " - 점수확인 "
   ]
  },
  {
   "cell_type": "markdown",
   "id": "cbdb3385",
   "metadata": {},
   "source": [
    "## 로지스틱"
   ]
  },
  {
   "cell_type": "code",
   "execution_count": 25,
   "id": "29434ab6",
   "metadata": {},
   "outputs": [
    {
     "data": {
      "text/plain": [
       "array([0, 0, 0, ..., 0, 0, 0], dtype=int64)"
      ]
     },
     "execution_count": 25,
     "metadata": {},
     "output_type": "execute_result"
    }
   ],
   "source": [
    "from sklearn.linear_model import LogisticRegression\n",
    "from scipy.special import expit\n",
    "\n",
    "lr = LogisticRegression()\n",
    "lr.fit(X_train, y_train)\n",
    "\n",
    "pred = lr.predict(X_test)\n",
    "pred"
   ]
  },
  {
   "cell_type": "code",
   "execution_count": 26,
   "id": "09f2246b",
   "metadata": {},
   "outputs": [
    {
     "data": {
      "text/plain": [
       "array([[0.93263407, 0.06736593],\n",
       "       [0.92408511, 0.07591489],\n",
       "       [0.9444692 , 0.0555308 ],\n",
       "       ...,\n",
       "       [0.94137131, 0.05862869],\n",
       "       [0.90201887, 0.09798113],\n",
       "       [0.91168433, 0.08831567]])"
      ]
     },
     "execution_count": 26,
     "metadata": {},
     "output_type": "execute_result"
    }
   ],
   "source": [
    "lr.predict_proba(X_test)"
   ]
  },
  {
   "cell_type": "code",
   "execution_count": 27,
   "id": "027f5823",
   "metadata": {},
   "outputs": [
    {
     "name": "stdout",
     "output_type": "stream",
     "text": [
      "[[ 0.07688674  0.18465846 -0.14740934 -0.11312903 -0.157169    0.0292313\n",
      "  -0.10565995  0.0059008   0.02604047  0.12980668 -0.09597031 -0.00182069\n",
      "   0.03598516  0.05536425  0.00786396  0.01563742 -0.03506965  0.08921805\n",
      "  -0.12322529]] [-2.37639171]\n"
     ]
    }
   ],
   "source": [
    "#   기울기     와     절편\n",
    "print(lr.coef_, lr.intercept_)"
   ]
  },
  {
   "cell_type": "code",
   "execution_count": 28,
   "id": "d5389e91",
   "metadata": {},
   "outputs": [
    {
     "data": {
      "text/plain": [
       "array([-2.62787355, -2.49919131, -2.83368531, ..., -2.7761135 ,\n",
       "       -2.21986057, -2.3343762 ])"
      ]
     },
     "execution_count": 28,
     "metadata": {},
     "output_type": "execute_result"
    }
   ],
   "source": [
    "# z값 계산\n",
    "decisions = lr.decision_function(X_test)\n",
    "decisions"
   ]
  },
  {
   "cell_type": "code",
   "execution_count": 29,
   "id": "49392f24",
   "metadata": {},
   "outputs": [
    {
     "name": "stdout",
     "output_type": "stream",
     "text": [
      "[0.06736593 0.07591489 0.0555308  ... 0.05862869 0.09798113 0.08831567]\n",
      "[0.93263407 0.92408511 0.9444692  ... 0.94137131 0.90201887 0.91168433]\n"
     ]
    }
   ],
   "source": [
    "from scipy.special import expit\n",
    "\n",
    "print(expit(decisions))\n",
    "print(1 - expit(decisions))\n"
   ]
  },
  {
   "cell_type": "code",
   "execution_count": 30,
   "id": "28001e8d",
   "metadata": {},
   "outputs": [
    {
     "name": "stdout",
     "output_type": "stream",
     "text": [
      "0.9146860588861299\n",
      "0.9134444838595247\n",
      "Macro f1 socre :  0.4773822766036337\n"
     ]
    }
   ],
   "source": [
    "print(lr.score(X_train, y_train))\n",
    "print(lr.score(X_test, y_test))\n",
    "print('Macro f1 socre : ', f1_score(y_test, pred, labels=[0,1], average='macro'))"
   ]
  },
  {
   "cell_type": "code",
   "execution_count": 1,
   "id": "0adf66e0",
   "metadata": {},
   "outputs": [
    {
     "ename": "NameError",
     "evalue": "name 'np' is not defined",
     "output_type": "error",
     "traceback": [
      "\u001b[1;31m---------------------------------------------------------------------------\u001b[0m",
      "\u001b[1;31mNameError\u001b[0m                                 Traceback (most recent call last)",
      "\u001b[1;32m~\\AppData\\Local\\Temp/ipykernel_12384/1146223587.py\u001b[0m in \u001b[0;36m<module>\u001b[1;34m\u001b[0m\n\u001b[0;32m      2\u001b[0m     \u001b[1;32mreturn\u001b[0m \u001b[1;36m1\u001b[0m \u001b[1;33m/\u001b[0m \u001b[1;33m(\u001b[0m\u001b[1;36m1\u001b[0m\u001b[1;33m+\u001b[0m\u001b[0mnp\u001b[0m\u001b[1;33m.\u001b[0m\u001b[0mexp\u001b[0m\u001b[1;33m(\u001b[0m\u001b[1;33m-\u001b[0m\u001b[0mx\u001b[0m\u001b[1;33m)\u001b[0m\u001b[1;33m)\u001b[0m\u001b[1;33m\u001b[0m\u001b[1;33m\u001b[0m\u001b[0m\n\u001b[0;32m      3\u001b[0m \u001b[1;33m\u001b[0m\u001b[0m\n\u001b[1;32m----> 4\u001b[1;33m \u001b[0mtrain\u001b[0m \u001b[1;33m=\u001b[0m \u001b[0mnp\u001b[0m\u001b[1;33m.\u001b[0m\u001b[0marange\u001b[0m\u001b[1;33m(\u001b[0m\u001b[1;33m-\u001b[0m\u001b[1;36m12\u001b[0m\u001b[1;33m,\u001b[0m \u001b[1;36m12\u001b[0m\u001b[1;33m,\u001b[0m \u001b[1;36m0.1\u001b[0m\u001b[1;33m)\u001b[0m\u001b[1;33m\u001b[0m\u001b[1;33m\u001b[0m\u001b[0m\n\u001b[0m\u001b[0;32m      5\u001b[0m \u001b[0mresult\u001b[0m \u001b[1;33m=\u001b[0m \u001b[0msigmoid\u001b[0m\u001b[1;33m(\u001b[0m\u001b[0mtrain\u001b[0m\u001b[1;33m)\u001b[0m\u001b[1;33m\u001b[0m\u001b[1;33m\u001b[0m\u001b[0m\n\u001b[0;32m      6\u001b[0m \u001b[1;33m\u001b[0m\u001b[0m\n",
      "\u001b[1;31mNameError\u001b[0m: name 'np' is not defined"
     ]
    }
   ],
   "source": [
    "def sigmoid(x):\n",
    "    return 1 / (1+np.exp(-x))\n",
    "\n",
    "train = np.arange(-12, 12, 0.1)\n",
    "result = sigmoid(train)\n",
    "\n",
    "plt.plot(train, result)\n",
    "plt.scatter(decisions, expit(decisions),marker='^' ,color = 'g', s=60)\n",
    "plt.scatter(0, 0.5, marker = 'D', color = 'black')\n",
    "\n",
    "plt.title('시그모이드 시각화')\n",
    "plt.xlabel('Z값')\n",
    "plt.ylabel('시그모이드값')\n",
    "plt.ylim(-0.1, 1.1)\n",
    "plt.show()"
   ]
  },
  {
   "cell_type": "markdown",
   "id": "1d0f79f6",
   "metadata": {},
   "source": [
    "## RandomForest"
   ]
  },
  {
   "cell_type": "code",
   "execution_count": 32,
   "id": "0c021b79",
   "metadata": {},
   "outputs": [
    {
     "data": {
      "text/plain": [
       "RandomForestClassifier(n_jobs=-1, random_state=2022)"
      ]
     },
     "execution_count": 32,
     "metadata": {},
     "output_type": "execute_result"
    }
   ],
   "source": [
    "from sklearn.ensemble import RandomForestClassifier\n",
    "\n",
    "\n",
    "rf = RandomForestClassifier(n_jobs=-1, random_state = 2022)\n",
    "rf.fit(X_train, y_train)"
   ]
  },
  {
   "cell_type": "code",
   "execution_count": 33,
   "id": "14ed4205",
   "metadata": {},
   "outputs": [],
   "source": [
    "rf_pred = rf.predict(X_test)"
   ]
  },
  {
   "cell_type": "code",
   "execution_count": 54,
   "id": "87dc9f1f",
   "metadata": {},
   "outputs": [
    {
     "name": "stdout",
     "output_type": "stream",
     "text": [
      "Macro f1 socre :  0.4813255260491883\n"
     ]
    }
   ],
   "source": [
    "print('Macro f1 socre : ', f1_score(y_test, rf_pred, labels=[0,1], average='macro'))"
   ]
  },
  {
   "cell_type": "code",
   "execution_count": 40,
   "id": "617403fb",
   "metadata": {},
   "outputs": [],
   "source": [
    "# pd.DataFrame(X_train)"
   ]
  },
  {
   "cell_type": "markdown",
   "id": "f227ab46",
   "metadata": {},
   "source": [
    "## Xgboost"
   ]
  },
  {
   "cell_type": "code",
   "execution_count": 36,
   "id": "4fe5a72e",
   "metadata": {},
   "outputs": [],
   "source": [
    "import xgboost as xgb\n",
    "\n",
    "X_tr, X_val, y_tr, y_val = train_test_split(X_train, y_train, test_size = 0.1, random_state=2022)\n",
    "# 90%  10%\n",
    "\n",
    "\n",
    "dtr = xgb.DMatrix(data=X_tr, label=y_tr)\n",
    "dval = xgb.DMatrix(data=X_val, label=y_val)\n",
    "dtest = xgb.DMatrix(data=X_test, label=y_test)\n",
    "\n",
    "\n",
    "params = {'max_depth': 3,  # 트기 최대 깊이 (3~10)\n",
    "          'eta': 0.05,     # 학습률 XGBClassifier인경우 learning_rate 사용해야함\n",
    "          'objective' : 'binary:logistic', # 0, 1 이진 분류이므로 목적함수(objective)는 이진 로지스틱(vinary:logistic)\n",
    "          'eval_metric' : 'logloss'}  # 회귀\n",
    "\n",
    "num_rounds = 400"
   ]
  },
  {
   "cell_type": "code",
   "execution_count": 61,
   "id": "5a48583f",
   "metadata": {},
   "outputs": [
    {
     "name": "stdout",
     "output_type": "stream",
     "text": [
      "[0]\ttrain-logloss:0.65948\teval-logloss:0.65893\n",
      "[1]\ttrain-logloss:0.62904\teval-logloss:0.62796\n",
      "[2]\ttrain-logloss:0.60141\teval-logloss:0.59985\n",
      "[3]\ttrain-logloss:0.57627\teval-logloss:0.57425\n",
      "[4]\ttrain-logloss:0.55333\teval-logloss:0.55083\n",
      "[5]\ttrain-logloss:0.53236\teval-logloss:0.52937\n",
      "[6]\ttrain-logloss:0.51315\teval-logloss:0.50970\n",
      "[7]\ttrain-logloss:0.49549\teval-logloss:0.49164\n",
      "[8]\ttrain-logloss:0.47926\teval-logloss:0.47501\n",
      "[9]\ttrain-logloss:0.46435\teval-logloss:0.45972\n",
      "[10]\ttrain-logloss:0.45061\teval-logloss:0.44562\n",
      "[11]\ttrain-logloss:0.43795\teval-logloss:0.43262\n",
      "[12]\ttrain-logloss:0.42627\teval-logloss:0.42057\n",
      "[13]\ttrain-logloss:0.41547\teval-logloss:0.40943\n",
      "[14]\ttrain-logloss:0.40550\teval-logloss:0.39908\n",
      "[15]\ttrain-logloss:0.39628\teval-logloss:0.38960\n",
      "[16]\ttrain-logloss:0.38775\teval-logloss:0.38072\n",
      "[17]\ttrain-logloss:0.37986\teval-logloss:0.37257\n",
      "[18]\ttrain-logloss:0.37255\teval-logloss:0.36494\n",
      "[19]\ttrain-logloss:0.36579\teval-logloss:0.35796\n",
      "[20]\ttrain-logloss:0.35952\teval-logloss:0.35140\n",
      "[21]\ttrain-logloss:0.35371\teval-logloss:0.34539\n",
      "[22]\ttrain-logloss:0.34834\teval-logloss:0.33982\n",
      "[23]\ttrain-logloss:0.34335\teval-logloss:0.33464\n",
      "[24]\ttrain-logloss:0.33870\teval-logloss:0.32972\n",
      "[25]\ttrain-logloss:0.33442\teval-logloss:0.32529\n",
      "[26]\ttrain-logloss:0.33046\teval-logloss:0.32119\n",
      "[27]\ttrain-logloss:0.32679\teval-logloss:0.31736\n",
      "[28]\ttrain-logloss:0.32335\teval-logloss:0.31367\n",
      "[29]\ttrain-logloss:0.32020\teval-logloss:0.31043\n",
      "[30]\ttrain-logloss:0.31724\teval-logloss:0.30722\n",
      "[31]\ttrain-logloss:0.31454\teval-logloss:0.30445\n",
      "[32]\ttrain-logloss:0.31193\teval-logloss:0.30166\n",
      "[33]\ttrain-logloss:0.30961\teval-logloss:0.29924\n",
      "[34]\ttrain-logloss:0.30746\teval-logloss:0.29695\n",
      "[35]\ttrain-logloss:0.30544\teval-logloss:0.29482\n",
      "[36]\ttrain-logloss:0.30351\teval-logloss:0.29274\n",
      "[37]\ttrain-logloss:0.30180\teval-logloss:0.29099\n",
      "[38]\ttrain-logloss:0.30014\teval-logloss:0.28922\n",
      "[39]\ttrain-logloss:0.29868\teval-logloss:0.28774\n",
      "[40]\ttrain-logloss:0.29727\teval-logloss:0.28617\n",
      "[41]\ttrain-logloss:0.29597\teval-logloss:0.28478\n",
      "[42]\ttrain-logloss:0.29475\teval-logloss:0.28347\n",
      "[43]\ttrain-logloss:0.29363\teval-logloss:0.28227\n",
      "[44]\ttrain-logloss:0.29261\teval-logloss:0.28113\n",
      "[45]\ttrain-logloss:0.29165\teval-logloss:0.28018\n",
      "[46]\ttrain-logloss:0.29078\teval-logloss:0.27920\n",
      "[47]\ttrain-logloss:0.28998\teval-logloss:0.27835\n",
      "[48]\ttrain-logloss:0.28924\teval-logloss:0.27755\n",
      "[49]\ttrain-logloss:0.28851\teval-logloss:0.27678\n",
      "[50]\ttrain-logloss:0.28787\teval-logloss:0.27607\n",
      "[51]\ttrain-logloss:0.28714\teval-logloss:0.27545\n",
      "[52]\ttrain-logloss:0.28658\teval-logloss:0.27489\n",
      "[53]\ttrain-logloss:0.28602\teval-logloss:0.27433\n",
      "[54]\ttrain-logloss:0.28552\teval-logloss:0.27376\n",
      "[55]\ttrain-logloss:0.28507\teval-logloss:0.27328\n",
      "[56]\ttrain-logloss:0.28465\teval-logloss:0.27281\n",
      "[57]\ttrain-logloss:0.28415\teval-logloss:0.27246\n",
      "[58]\ttrain-logloss:0.28375\teval-logloss:0.27198\n",
      "[59]\ttrain-logloss:0.28341\teval-logloss:0.27163\n",
      "[60]\ttrain-logloss:0.28310\teval-logloss:0.27130\n",
      "[61]\ttrain-logloss:0.28281\teval-logloss:0.27100\n",
      "[62]\ttrain-logloss:0.28256\teval-logloss:0.27071\n",
      "[63]\ttrain-logloss:0.28224\teval-logloss:0.27039\n",
      "[64]\ttrain-logloss:0.28198\teval-logloss:0.27009\n",
      "[65]\ttrain-logloss:0.28170\teval-logloss:0.26987\n",
      "[66]\ttrain-logloss:0.28145\teval-logloss:0.26969\n",
      "[67]\ttrain-logloss:0.28124\teval-logloss:0.26950\n",
      "[68]\ttrain-logloss:0.28102\teval-logloss:0.26930\n",
      "[69]\ttrain-logloss:0.28084\teval-logloss:0.26914\n",
      "[70]\ttrain-logloss:0.28065\teval-logloss:0.26900\n",
      "[71]\ttrain-logloss:0.28045\teval-logloss:0.26884\n",
      "[72]\ttrain-logloss:0.28029\teval-logloss:0.26871\n",
      "[73]\ttrain-logloss:0.28008\teval-logloss:0.26850\n",
      "[74]\ttrain-logloss:0.27997\teval-logloss:0.26840\n",
      "[75]\ttrain-logloss:0.27981\teval-logloss:0.26831\n",
      "[76]\ttrain-logloss:0.27968\teval-logloss:0.26821\n",
      "[77]\ttrain-logloss:0.27948\teval-logloss:0.26801\n",
      "[78]\ttrain-logloss:0.27935\teval-logloss:0.26792\n",
      "[79]\ttrain-logloss:0.27923\teval-logloss:0.26784\n",
      "[80]\ttrain-logloss:0.27910\teval-logloss:0.26778\n",
      "[81]\ttrain-logloss:0.27895\teval-logloss:0.26776\n",
      "[82]\ttrain-logloss:0.27884\teval-logloss:0.26770\n",
      "[83]\ttrain-logloss:0.27874\teval-logloss:0.26768\n",
      "[84]\ttrain-logloss:0.27863\teval-logloss:0.26758\n",
      "[85]\ttrain-logloss:0.27854\teval-logloss:0.26753\n",
      "[86]\ttrain-logloss:0.27838\teval-logloss:0.26742\n",
      "[87]\ttrain-logloss:0.27829\teval-logloss:0.26738\n",
      "[88]\ttrain-logloss:0.27817\teval-logloss:0.26736\n",
      "[89]\ttrain-logloss:0.27805\teval-logloss:0.26735\n",
      "[90]\ttrain-logloss:0.27797\teval-logloss:0.26735\n",
      "[91]\ttrain-logloss:0.27784\teval-logloss:0.26725\n",
      "[92]\ttrain-logloss:0.27776\teval-logloss:0.26722\n",
      "[93]\ttrain-logloss:0.27763\teval-logloss:0.26723\n",
      "[94]\ttrain-logloss:0.27752\teval-logloss:0.26720\n",
      "[95]\ttrain-logloss:0.27745\teval-logloss:0.26716\n",
      "[96]\ttrain-logloss:0.27736\teval-logloss:0.26710\n",
      "[97]\ttrain-logloss:0.27727\teval-logloss:0.26710\n",
      "[98]\ttrain-logloss:0.27715\teval-logloss:0.26711\n",
      "[99]\ttrain-logloss:0.27697\teval-logloss:0.26712\n",
      "[100]\ttrain-logloss:0.27688\teval-logloss:0.26716\n",
      "[101]\ttrain-logloss:0.27681\teval-logloss:0.26713\n",
      "[102]\ttrain-logloss:0.27674\teval-logloss:0.26712\n",
      "[103]\ttrain-logloss:0.27660\teval-logloss:0.26702\n",
      "[104]\ttrain-logloss:0.27653\teval-logloss:0.26701\n",
      "[105]\ttrain-logloss:0.27643\teval-logloss:0.26702\n",
      "[106]\ttrain-logloss:0.27636\teval-logloss:0.26707\n",
      "[107]\ttrain-logloss:0.27620\teval-logloss:0.26705\n",
      "[108]\ttrain-logloss:0.27610\teval-logloss:0.26708\n",
      "[109]\ttrain-logloss:0.27604\teval-logloss:0.26712\n",
      "[110]\ttrain-logloss:0.27598\teval-logloss:0.26717\n",
      "[111]\ttrain-logloss:0.27590\teval-logloss:0.26717\n",
      "[112]\ttrain-logloss:0.27582\teval-logloss:0.26722\n",
      "[113]\ttrain-logloss:0.27573\teval-logloss:0.26720\n",
      "[114]\ttrain-logloss:0.27563\teval-logloss:0.26722\n",
      "[115]\ttrain-logloss:0.27560\teval-logloss:0.26723\n",
      "[116]\ttrain-logloss:0.27551\teval-logloss:0.26726\n",
      "[117]\ttrain-logloss:0.27536\teval-logloss:0.26725\n",
      "[118]\ttrain-logloss:0.27528\teval-logloss:0.26730\n",
      "[119]\ttrain-logloss:0.27520\teval-logloss:0.26729\n",
      "[120]\ttrain-logloss:0.27505\teval-logloss:0.26733\n",
      "[121]\ttrain-logloss:0.27488\teval-logloss:0.26736\n",
      "[122]\ttrain-logloss:0.27478\teval-logloss:0.26734\n",
      "[123]\ttrain-logloss:0.27473\teval-logloss:0.26741\n",
      "[124]\ttrain-logloss:0.27468\teval-logloss:0.26742\n",
      "[125]\ttrain-logloss:0.27459\teval-logloss:0.26744\n",
      "[126]\ttrain-logloss:0.27454\teval-logloss:0.26745\n",
      "[127]\ttrain-logloss:0.27448\teval-logloss:0.26749\n",
      "[128]\ttrain-logloss:0.27435\teval-logloss:0.26740\n",
      "[129]\ttrain-logloss:0.27430\teval-logloss:0.26747\n",
      "[130]\ttrain-logloss:0.27422\teval-logloss:0.26751\n",
      "[131]\ttrain-logloss:0.27414\teval-logloss:0.26754\n",
      "[132]\ttrain-logloss:0.27402\teval-logloss:0.26753\n",
      "[133]\ttrain-logloss:0.27397\teval-logloss:0.26759\n",
      "[134]\ttrain-logloss:0.27394\teval-logloss:0.26760\n",
      "[135]\ttrain-logloss:0.27385\teval-logloss:0.26762\n",
      "[136]\ttrain-logloss:0.27362\teval-logloss:0.26755\n",
      "[137]\ttrain-logloss:0.27349\teval-logloss:0.26753\n",
      "[138]\ttrain-logloss:0.27341\teval-logloss:0.26750\n",
      "[139]\ttrain-logloss:0.27335\teval-logloss:0.26756\n",
      "[140]\ttrain-logloss:0.27328\teval-logloss:0.26759\n",
      "[141]\ttrain-logloss:0.27320\teval-logloss:0.26762\n",
      "[142]\ttrain-logloss:0.27311\teval-logloss:0.26758\n",
      "[143]\ttrain-logloss:0.27304\teval-logloss:0.26760\n",
      "[144]\ttrain-logloss:0.27300\teval-logloss:0.26766\n",
      "[145]\ttrain-logloss:0.27284\teval-logloss:0.26769\n",
      "[146]\ttrain-logloss:0.27277\teval-logloss:0.26774\n",
      "[147]\ttrain-logloss:0.27269\teval-logloss:0.26778\n",
      "[148]\ttrain-logloss:0.27261\teval-logloss:0.26779\n",
      "[149]\ttrain-logloss:0.27256\teval-logloss:0.26776\n",
      "[150]\ttrain-logloss:0.27244\teval-logloss:0.26777\n",
      "[151]\ttrain-logloss:0.27240\teval-logloss:0.26771\n",
      "[152]\ttrain-logloss:0.27228\teval-logloss:0.26772\n",
      "[153]\ttrain-logloss:0.27224\teval-logloss:0.26773\n",
      "[154]\ttrain-logloss:0.27220\teval-logloss:0.26767\n",
      "[155]\ttrain-logloss:0.27217\teval-logloss:0.26769\n",
      "[156]\ttrain-logloss:0.27210\teval-logloss:0.26771\n",
      "[157]\ttrain-logloss:0.27208\teval-logloss:0.26773\n",
      "[158]\ttrain-logloss:0.27200\teval-logloss:0.26772\n",
      "[159]\ttrain-logloss:0.27194\teval-logloss:0.26776\n",
      "[160]\ttrain-logloss:0.27175\teval-logloss:0.26766\n",
      "[161]\ttrain-logloss:0.27156\teval-logloss:0.26760\n",
      "[162]\ttrain-logloss:0.27153\teval-logloss:0.26766\n",
      "[163]\ttrain-logloss:0.27138\teval-logloss:0.26756\n",
      "[164]\ttrain-logloss:0.27127\teval-logloss:0.26753\n",
      "[165]\ttrain-logloss:0.27122\teval-logloss:0.26757\n",
      "[166]\ttrain-logloss:0.27120\teval-logloss:0.26758\n",
      "[167]\ttrain-logloss:0.27113\teval-logloss:0.26758\n",
      "[168]\ttrain-logloss:0.27099\teval-logloss:0.26756\n",
      "[169]\ttrain-logloss:0.27095\teval-logloss:0.26764\n"
     ]
    },
    {
     "name": "stdout",
     "output_type": "stream",
     "text": [
      "[170]\ttrain-logloss:0.27085\teval-logloss:0.26768\n",
      "[171]\ttrain-logloss:0.27082\teval-logloss:0.26763\n",
      "[172]\ttrain-logloss:0.27077\teval-logloss:0.26764\n",
      "[173]\ttrain-logloss:0.27072\teval-logloss:0.26764\n",
      "[174]\ttrain-logloss:0.27067\teval-logloss:0.26767\n",
      "[175]\ttrain-logloss:0.27055\teval-logloss:0.26766\n",
      "[176]\ttrain-logloss:0.27051\teval-logloss:0.26761\n",
      "[177]\ttrain-logloss:0.27046\teval-logloss:0.26764\n",
      "[178]\ttrain-logloss:0.27036\teval-logloss:0.26765\n",
      "[179]\ttrain-logloss:0.27030\teval-logloss:0.26767\n",
      "[180]\ttrain-logloss:0.27026\teval-logloss:0.26772\n",
      "[181]\ttrain-logloss:0.27023\teval-logloss:0.26770\n",
      "[182]\ttrain-logloss:0.27003\teval-logloss:0.26777\n",
      "[183]\ttrain-logloss:0.26996\teval-logloss:0.26774\n",
      "[184]\ttrain-logloss:0.26989\teval-logloss:0.26778\n",
      "[185]\ttrain-logloss:0.26986\teval-logloss:0.26773\n",
      "[186]\ttrain-logloss:0.26980\teval-logloss:0.26781\n",
      "[187]\ttrain-logloss:0.26976\teval-logloss:0.26779\n",
      "[188]\ttrain-logloss:0.26971\teval-logloss:0.26783\n",
      "[189]\ttrain-logloss:0.26967\teval-logloss:0.26784\n",
      "[190]\ttrain-logloss:0.26951\teval-logloss:0.26777\n",
      "[191]\ttrain-logloss:0.26943\teval-logloss:0.26772\n",
      "[192]\ttrain-logloss:0.26939\teval-logloss:0.26773\n",
      "[193]\ttrain-logloss:0.26936\teval-logloss:0.26768\n",
      "[194]\ttrain-logloss:0.26931\teval-logloss:0.26768\n",
      "[195]\ttrain-logloss:0.26921\teval-logloss:0.26769\n",
      "[196]\ttrain-logloss:0.26919\teval-logloss:0.26771\n",
      "[197]\ttrain-logloss:0.26916\teval-logloss:0.26777\n",
      "[198]\ttrain-logloss:0.26913\teval-logloss:0.26774\n",
      "[199]\ttrain-logloss:0.26909\teval-logloss:0.26776\n",
      "[200]\ttrain-logloss:0.26904\teval-logloss:0.26777\n",
      "[201]\ttrain-logloss:0.26887\teval-logloss:0.26776\n",
      "[202]\ttrain-logloss:0.26869\teval-logloss:0.26785\n",
      "[203]\ttrain-logloss:0.26863\teval-logloss:0.26790\n",
      "[204]\ttrain-logloss:0.26847\teval-logloss:0.26783\n"
     ]
    }
   ],
   "source": [
    "# 학습\n",
    "# xgboost 모듈의 train()함수에 파라미터로 전달\n",
    "# 학습 데이터 셋은 'train' 또는 평가 데이터셋은 'eval'로 명가한다\n",
    "\n",
    "eval_list = [(dtr,'train'),(dval,'eval')]\n",
    "\n",
    "# 하이퍼 파라미터와 early stopping 파라미터를 train()함수의 파라미터로 전달\n",
    "xgb_model = xgb.train(params = params, dtrain=dtr, num_boost_round = num_rounds, early_stopping_rounds=100, evals=eval_list)\n",
    "#                                        훈련             반복회수                    조기 중단:(최소50부터)       "
   ]
  },
  {
   "cell_type": "code",
   "execution_count": 62,
   "id": "d0f9e50e",
   "metadata": {},
   "outputs": [],
   "source": [
    "xgb_pred = xgb_model.predict(dtest)"
   ]
  },
  {
   "cell_type": "code",
   "execution_count": 64,
   "id": "09b90521",
   "metadata": {},
   "outputs": [
    {
     "name": "stdout",
     "output_type": "stream",
     "text": [
      "예측값 10개만 표시 :  [0, 0, 0, 0, 0, 0, 0, 0, 0, 0]\n"
     ]
    }
   ],
   "source": [
    "preds = [1 if x > 0.5 else 0 for x in xgb_pred]\n",
    "print('예측값 10개만 표시 : ', preds[:10])"
   ]
  },
  {
   "cell_type": "code",
   "execution_count": 65,
   "id": "d3ddb605",
   "metadata": {},
   "outputs": [
    {
     "name": "stdout",
     "output_type": "stream",
     "text": [
      "Macro f1 socre :  0.48155242812867777\n"
     ]
    }
   ],
   "source": [
    "print('Macro f1 socre : ', f1_score(y_test, preds, average='macro'))"
   ]
  }
 ],
 "metadata": {
  "kernelspec": {
   "display_name": "Python 3 (ipykernel)",
   "language": "python",
   "name": "python3"
  },
  "language_info": {
   "codemirror_mode": {
    "name": "ipython",
    "version": 3
   },
   "file_extension": ".py",
   "mimetype": "text/x-python",
   "name": "python",
   "nbconvert_exporter": "python",
   "pygments_lexer": "ipython3",
   "version": "3.9.7"
  },
  "toc": {
   "base_numbering": 1,
   "nav_menu": {},
   "number_sections": true,
   "sideBar": true,
   "skip_h1_title": false,
   "title_cell": "Table of Contents",
   "title_sidebar": "Contents",
   "toc_cell": false,
   "toc_position": {
    "height": "calc(100% - 180px)",
    "left": "10px",
    "top": "150px",
    "width": "307.2px"
   },
   "toc_section_display": true,
   "toc_window_display": true
  },
  "varInspector": {
   "cols": {
    "lenName": 16,
    "lenType": 16,
    "lenVar": 40
   },
   "kernels_config": {
    "python": {
     "delete_cmd_postfix": "",
     "delete_cmd_prefix": "del ",
     "library": "var_list.py",
     "varRefreshCmd": "print(var_dic_list())"
    },
    "r": {
     "delete_cmd_postfix": ") ",
     "delete_cmd_prefix": "rm(",
     "library": "var_list.r",
     "varRefreshCmd": "cat(var_dic_list()) "
    }
   },
   "types_to_exclude": [
    "module",
    "function",
    "builtin_function_or_method",
    "instance",
    "_Feature"
   ],
   "window_display": false
  }
 },
 "nbformat": 4,
 "nbformat_minor": 5
}
